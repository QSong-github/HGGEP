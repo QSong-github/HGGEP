{
 "cells": [
  {
   "cell_type": "code",
   "execution_count": 19,
   "id": "053309c2-cb6d-4623-83b7-7b0d947998e6",
   "metadata": {},
   "outputs": [],
   "source": [
    "import torch\n",
    "import numpy as np\n",
    "import pytorch_lightning as pl\n",
    "import torchvision.transforms as tf\n",
    "from tqdm import tqdm\n",
    "from predict import *\n",
    "\n",
    "# from HIST2ST_Baseline import *\n",
    "# from HIST2ST_HGNN import *\n",
    "from HIST2ST_HGNN_CSCC import *\n",
    "# from HIST2ST_STNet import *\n",
    "\n",
    "from dataset import ViT_HER2ST, ViT_SKIN\n",
    "from scipy.stats import pearsonr,spearmanr\n",
    "from torch.utils.data import DataLoader\n",
    "from pytorch_lightning.loggers import TensorBoardLogger\n",
    "from copy import deepcopy as dcp\n",
    "from collections import defaultdict as dfd\n",
    "from sklearn.metrics import adjusted_rand_score as ari_score\n",
    "from sklearn.metrics.cluster import normalized_mutual_info_score as nmi_score"
   ]
  },
  {
   "cell_type": "markdown",
   "id": "b132bfb4-bd29-44fa-bbca-3790b0848fd4",
   "metadata": {},
   "source": [
    "# Data Loading"
   ]
  },
  {
   "cell_type": "code",
   "execution_count": 20,
   "id": "6281d8f2-e5f7-4c26-88bf-5256197b1418",
   "metadata": {
    "tags": []
   },
   "outputs": [],
   "source": [
    "name=[*[f'A{i}' for i in range(2,7)],*[f'B{i}' for i in range(1,7)],\n",
    "      *[f'C{i}' for i in range(1,7)],*[f'D{i}' for i in range(1,7)],\n",
    "      *[f'E{i}' for i in range(1,4)],*[f'F{i}' for i in range(1,4)],*[f'G{i}' for i in range(1,4)]]\n",
    "patients = ['P2', 'P5', 'P9', 'P10']\n",
    "reps = ['rep1', 'rep2', 'rep3']\n",
    "skinname = []\n",
    "for i in patients:\n",
    "    for j in reps:\n",
    "        skinname.append(i+'_ST_'+j)\n",
    "device='cuda'\n",
    "tag='5-7-2-8-4-16-32'\n",
    "k,p,d1,d2,d3,h,c=map(lambda x:int(x),tag.split('-'))\n",
    "dropout=0.2\n",
    "random.seed(12000)\n",
    "np.random.seed(12000)\n",
    "torch.manual_seed(12000)\n",
    "torch.cuda.manual_seed(12000)\n",
    "torch.cuda.manual_seed_all(12000)  \n",
    "torch.backends.cudnn.benchmark = False\n",
    "torch.backends.cudnn.deterministic = True"
   ]
  },
  {
   "cell_type": "markdown",
   "id": "e8d22dca",
   "metadata": {
    "collapsed": false
   },
   "source": [
    "\n",
    "# Hist2ST Prediction\n",
    "\n",
    "### To run the trained model, please select the trained model and replace the value of the variable fold with the number in the name of the selected trained model."
   ]
  },
  {
   "attachments": {},
   "cell_type": "markdown",
   "id": "4975e465",
   "metadata": {},
   "source": [
    "Test one!"
   ]
  },
  {
   "cell_type": "code",
   "execution_count": null,
   "id": "76cfcfb9-3169-46da-9288-2e2be7942d84",
   "metadata": {},
   "outputs": [],
   "source": [
    "fold=4\n",
    "data='her2st'\n",
    "prune='Grid' if data=='her2st' else 'NA'\n",
    "genes=171 if data=='cscc' else 785\n",
    "\n",
    "testset = pk_load(fold,'test',dataset=data,flatten=False,adj=True,ori=True,prune=prune)\n",
    "test_loader = DataLoader(testset, batch_size=1, num_workers=0, shuffle=False)\n",
    "label=testset.label[testset.names[0]]\n",
    "genes=785\n",
    "model=Hist2ST(\n",
    "    depth1=d1, depth2=d2,depth3=d3,n_genes=genes, \n",
    "    kernel_size=k, patch_size=p,\n",
    "    heads=h, channel=c, dropout=0.2,\n",
    "    zinb=0.25, nb=False,\n",
    "    bake=5, lamb=0.5, \n",
    ")"
   ]
  },
  {
   "cell_type": "code",
   "execution_count": 9,
   "id": "28741089",
   "metadata": {},
   "outputs": [
    {
     "name": "stdout",
     "output_type": "stream",
     "text": [
      "[0, 1, 2, 3, 4, 5, 6, 7, 8, 9, 10, 11]\n",
      "te_names: ['P2_ST_rep1']\n",
      "Loading imgs...\n",
      "Loading metadata...\n"
     ]
    },
    {
     "name": "stderr",
     "output_type": "stream",
     "text": [
      "100%|██████████| 1/1 [00:01<00:00,  1.77s/it]\n"
     ]
    },
    {
     "name": "stdout",
     "output_type": "stream",
     "text": [
      "Pearson Correlation Median: 0.046643540233988215\n",
      "te_names: ['P2_ST_rep2']\n",
      "Loading imgs...\n",
      "Loading metadata...\n"
     ]
    },
    {
     "name": "stderr",
     "output_type": "stream",
     "text": [
      "100%|██████████| 1/1 [00:00<00:00,  2.36it/s]\n"
     ]
    },
    {
     "name": "stdout",
     "output_type": "stream",
     "text": [
      "Pearson Correlation Median: 0.058489620357255835\n",
      "te_names: ['P2_ST_rep3']\n",
      "Loading imgs...\n",
      "Loading metadata...\n"
     ]
    },
    {
     "name": "stderr",
     "output_type": "stream",
     "text": [
      "100%|██████████| 1/1 [00:00<00:00,  1.17it/s]\n"
     ]
    },
    {
     "name": "stdout",
     "output_type": "stream",
     "text": [
      "Pearson Correlation Median: 0.06347750209320434\n",
      "te_names: ['P5_ST_rep1']\n",
      "Loading imgs...\n",
      "Loading metadata...\n"
     ]
    },
    {
     "name": "stderr",
     "output_type": "stream",
     "text": [
      "100%|██████████| 1/1 [00:00<00:00,  1.25it/s]\n"
     ]
    },
    {
     "name": "stdout",
     "output_type": "stream",
     "text": [
      "Pearson Correlation Median: 0.023491677872723618\n",
      "te_names: ['P5_ST_rep2']\n",
      "Loading imgs...\n",
      "Loading metadata...\n"
     ]
    },
    {
     "name": "stderr",
     "output_type": "stream",
     "text": [
      "100%|██████████| 1/1 [00:00<00:00,  3.78it/s]\n"
     ]
    },
    {
     "name": "stdout",
     "output_type": "stream",
     "text": [
      "Pearson Correlation Median: 0.008921186759102185\n",
      "te_names: ['P5_ST_rep3']\n",
      "Loading imgs...\n",
      "Loading metadata...\n"
     ]
    },
    {
     "name": "stderr",
     "output_type": "stream",
     "text": [
      "100%|██████████| 1/1 [00:00<00:00,  1.49it/s]\n"
     ]
    },
    {
     "name": "stdout",
     "output_type": "stream",
     "text": [
      "Pearson Correlation Median: 0.013762889373102789\n",
      "te_names: ['P9_ST_rep1']\n",
      "Loading imgs...\n",
      "Loading metadata...\n"
     ]
    },
    {
     "name": "stderr",
     "output_type": "stream",
     "text": [
      "100%|██████████| 1/1 [00:00<00:00,  1.11it/s]\n"
     ]
    },
    {
     "name": "stdout",
     "output_type": "stream",
     "text": [
      "Pearson Correlation Median: 0.03919497702726856\n",
      "te_names: ['P9_ST_rep2']\n",
      "Loading imgs...\n",
      "Loading metadata...\n"
     ]
    },
    {
     "name": "stderr",
     "output_type": "stream",
     "text": [
      "100%|██████████| 1/1 [00:00<00:00,  1.11it/s]\n"
     ]
    },
    {
     "name": "stdout",
     "output_type": "stream",
     "text": [
      "Pearson Correlation Median: 0.044122434062352556\n",
      "te_names: ['P9_ST_rep3']\n",
      "Loading imgs...\n",
      "Loading metadata...\n"
     ]
    },
    {
     "name": "stderr",
     "output_type": "stream",
     "text": [
      "100%|██████████| 1/1 [00:00<00:00,  1.17it/s]\n"
     ]
    },
    {
     "name": "stdout",
     "output_type": "stream",
     "text": [
      "Pearson Correlation Median: 0.027845182220020748\n",
      "te_names: ['P10_ST_rep1']\n",
      "Loading imgs...\n",
      "Loading metadata...\n"
     ]
    },
    {
     "name": "stderr",
     "output_type": "stream",
     "text": [
      "100%|██████████| 1/1 [00:00<00:00,  1.05it/s]\n"
     ]
    },
    {
     "name": "stdout",
     "output_type": "stream",
     "text": [
      "Pearson Correlation Median: 0.03291781086666134\n",
      "te_names: ['P10_ST_rep2']\n",
      "Loading imgs...\n",
      "Loading metadata...\n"
     ]
    },
    {
     "name": "stderr",
     "output_type": "stream",
     "text": [
      "100%|██████████| 1/1 [00:00<00:00,  2.55it/s]\n"
     ]
    },
    {
     "name": "stdout",
     "output_type": "stream",
     "text": [
      "Pearson Correlation Median: 0.05750231533592079\n",
      "te_names: ['P10_ST_rep3']\n",
      "Loading imgs...\n",
      "Loading metadata...\n"
     ]
    },
    {
     "name": "stderr",
     "output_type": "stream",
     "text": [
      "100%|██████████| 1/1 [00:00<00:00,  1.36it/s]"
     ]
    },
    {
     "name": "stdout",
     "output_type": "stream",
     "text": [
      "Pearson Correlation Median: 0.03724015508012925\n"
     ]
    },
    {
     "name": "stderr",
     "output_type": "stream",
     "text": [
      "\n"
     ]
    }
   ],
   "source": [
    "import numpy as np\n",
    "\n",
    "folds=[]\n",
    "for i in range(12):\n",
    "    folds.append(i)\n",
    "print(folds)\n",
    "data='cscc'\n",
    "prune='Grid' if data=='her2st' else 'NA'\n",
    "genes=171 if data=='cscc' else 785\n",
    "\n",
    "R_STNet = []\n",
    "# R_Hist2ST = []\n",
    "\n",
    "for fold in folds:\n",
    "    testset = pk_load(fold,'test',dataset=data,flatten=False,adj=True,ori=True,prune=prune)\n",
    "    test_loader = DataLoader(testset, batch_size=1, num_workers=0, shuffle=False)\n",
    "    # label=testset.label[testset.names[0]]\n",
    "    # genes=785\n",
    "    model=Hist2ST(\n",
    "        depth1=d1, depth2=d2,depth3=d3,n_genes=genes, \n",
    "        kernel_size=k, patch_size=p,\n",
    "        heads=h, channel=c, dropout=0.2,\n",
    "        zinb=0.25, nb=False,\n",
    "        bake=0, lamb=0.5,\n",
    "    )\n",
    "    model.load_state_dict(torch.load('./model/STNet/CSCC/'+str(fold)+'_STNet.ckpt'))\n",
    "    # model.load_state_dict(torch.load(f'./model/cSCC_official/'+str(fold)+'_skin-Hist2ST.ckpt'))\n",
    "    pred, gt = test(model, test_loader,'cuda')\n",
    "    R=get_R(pred,gt)[0]\n",
    "    R_STNet.append(R)\n",
    "    # R_Hist2ST.append(R)\n",
    "    # print('Pearson Correlation Mean:',np.nanmean(R))  # 计算一个数组（或矩阵）中的非NaN（非数字）值的平均值。\n",
    "    print('Pearson Correlation Median:',np.nanmedian(R))\n",
    "\n",
    "# np.save('./Output/STNet_CSCC.npy', R_STNet)\n",
    "# np.save('Hist2ST_CSCC.npy', R_Hist2ST)"
   ]
  },
  {
   "cell_type": "code",
   "execution_count": 14,
   "id": "8fd5c203",
   "metadata": {},
   "outputs": [
    {
     "name": "stdout",
     "output_type": "stream",
     "text": [
      "12\n",
      "12\n"
     ]
    }
   ],
   "source": [
    "import numpy as np\n",
    "\n",
    "# R_HGGEP = np.load('HGGEP_CSCC.npy')\n",
    "# R_Hist2ST = np.load('Hist2ST_CSCC.npy')\n",
    "\n",
    "# print(len(R_HGGEP))\n",
    "# print(len(R_Hist2ST))"
   ]
  },
  {
   "cell_type": "code",
   "execution_count": null,
   "id": "5a430c85",
   "metadata": {},
   "outputs": [],
   "source": [
    "# # 取最后mean和median的均值和中间值\n",
    "# R_HGGEP_with_mean_median = R_HGGEP\n",
    "# R_Hist2ST_with_mean_median = R_Hist2ST\n",
    "\n",
    "# # print(R_HGGEP_with_mean_median.shape)  # 应该是 (34, 785)\n",
    "# # print(R_Hist2ST_with_mean_median.shape)  # 应该是 (34, 785)\n",
    "\n",
    "# # Extract the last subarrays\n",
    "# last_subarray_HGGEP = R_HGGEP_with_mean_median[-2, :]\n",
    "# last_subarray_Hist2ST = R_Hist2ST_with_mean_median[-2, :]\n",
    "# # Convert to Pandas DataFrame\n",
    "# df_last_HGGEP = pd.DataFrame(last_subarray_HGGEP)\n",
    "# df_last_Hist2ST = pd.DataFrame(last_subarray_Hist2ST)\n",
    "\n",
    "# # Calculate mean and median using Pandas DataFrame methods\n",
    "# mean_HGGEP = df_last_HGGEP.mean().values\n",
    "# mean_Hist2ST = df_last_Hist2ST.mean().values\n",
    "\n",
    "# median_HGGEP = np.median(R_HGGEP_with_mean_median[:, -1])\n",
    "# median_Hist2ST = np.median(R_Hist2ST_with_mean_median[:, -1])\n",
    "\n",
    "\n",
    "# # Print the results\n",
    "# print(\"Mean HGGEP:\", mean_HGGEP)\n",
    "# print(\"Mean Hist2ST:\", mean_Hist2ST)\n",
    "# print(\"Median HGGEP:\", median_HGGEP)\n",
    "# print(\"Median Hist2ST:\", median_Hist2ST)"
   ]
  },
  {
   "cell_type": "code",
   "execution_count": 11,
   "id": "8edff21e",
   "metadata": {},
   "outputs": [
    {
     "name": "stdout",
     "output_type": "stream",
     "text": [
      "(14, 171)\n",
      "[ 0.01695851  0.01324803  0.08415784  0.05436938  0.03271027 -0.03523912\n",
      "  0.04600324  0.04927204  0.02570167  0.04401477]\n"
     ]
    }
   ],
   "source": [
    "# # add mean and median\n",
    "mean_HGGEP = np.mean(R_STNet, axis=0)\n",
    "# mean_Hist2ST = np.mean(R_Hist2ST, axis=0)\n",
    "\n",
    "median_HGGEP = np.median(R_STNet, axis=0)\n",
    "# median_Hist2ST = np.median(R_Hist2ST, axis=0)\n",
    "\n",
    "# 添加中位数到原始数组的末尾\n",
    "R_HGGEP_with_mean_median = np.vstack([R_STNet, mean_HGGEP, median_HGGEP])\n",
    "# R_Hist2ST_with_mean_median = np.vstack([R_Hist2ST, mean_Hist2ST, median_Hist2ST])\n",
    "\n",
    "\n",
    "print(R_HGGEP_with_mean_median.shape)  # 应该是 (34, 785)\n",
    "# print(R_Hist2ST_with_mean_median.shape)  # 应该是 (34, 785)\n",
    "# 打印结果\n",
    "print(R_HGGEP_with_mean_median[-1][:10]) \n",
    "\n",
    "\n",
    "# 假设 data 是你的二维数组 [32, 785]\n",
    "# np.save('HGGEP_CSCC.npy', R_HGGEP_with_mean_median)\n",
    "np.save('./Output/STNet_CSCC.npy', R_HGGEP_with_mean_median)\n",
    "\n",
    "# R_HGGEP_with_mean_median = np.load('HGGEP_output.npy')\n",
    "# R_Hist2ST_with_mean_median = np.load('Hist2ST_output.npy')"
   ]
  },
  {
   "cell_type": "code",
   "execution_count": 22,
   "id": "0aae38db",
   "metadata": {},
   "outputs": [
    {
     "data": {
      "image/png": "[encoded data removed]",
      "text/plain": [
       "<Figure size 1728x432 with 1 Axes>"
      ]
     },
     "metadata": {},
     "output_type": "display_data"
    }
   ],
   "source": [
    "import warnings\n",
    "warnings.filterwarnings(\"ignore\")\n",
    "import seaborn as sns\n",
    "import matplotlib.pyplot as plt\n",
    "import numpy as np\n",
    "import pandas as pd\n",
    "\n",
    "R_HGGEP_with_mean_median = np.load('./Output/HGGEP_CSCC.npy')\n",
    "R_Hist2ST_with_mean_median = np.load('./Output/Hist2ST_CSCC.npy')\n",
    "R_HisToGene_with_mean_median = np.load('./Output/HisToGene_CSCC.npy')\n",
    "R_STNet_with_mean_median = np.load('./Output/STNet_CSCC.npy')\n",
    "\n",
    "x_label = ['P2_ST_rep1', 'P2_ST_rep2', 'P2_ST_rep3', 'P5_ST_rep1', 'P5_ST_rep2', 'P5_ST_rep3', 'P9_ST_rep1', 'P9_ST_rep2', 'P9_ST_rep3', \\\n",
    "           'P10_ST_rep1', 'P10_ST_rep2', 'P10_ST_rep3', 'Mean', 'Median']\n",
    "\n",
    "df_combined = pd.DataFrame()\n",
    "# 重复操作32次\n",
    "for i in range(len(x_label)):\n",
    "    # 创建 DataFrame，添加分类变量和列名\n",
    "    df_class_i = pd.DataFrame(np.transpose(np.array([R_HGGEP_with_mean_median[i], R_Hist2ST_with_mean_median[i],\\\n",
    "                                                      R_HisToGene_with_mean_median[i], R_STNet_with_mean_median[i]])),\\\n",
    "                                                      columns=['HGGEP', 'Hist2ST', 'HisToGene', 'STNet'])\n",
    "    # df_class_i = pd.DataFrame(data_class1, columns=['HGGEP', 'Hist2ST', 'HisToGene'])\n",
    "    df_class_i['Category'] = x_label[i]  # 使用 f-string 添加不同的后缀数字\n",
    "\n",
    "    # 将当前 DataFrame 追加到结果 DataFrame\n",
    "    # df_combined = pd.concat([df_combined, pd.DataFrame([df_class_i])], ignore_index=True)\n",
    "    \n",
    "    df_combined = df_combined._append(df_class_i, ignore_index=True)\n",
    "\n",
    "# print(df_combined)\n",
    "\n",
    "# 合并两类数据\n",
    "# df_combined = pd.concat([df_class1, df_class2])\n",
    "# print(df_combined)\n",
    "\n",
    "# 将列名融入数据，以便使用`hue`\n",
    "df_combined_melted = pd.melt(df_combined, id_vars=['Category'], var_name='Column')\n",
    "\n",
    "# 设置图形大小\n",
    "plt.figure(figsize=(24, 6))\n",
    "\n",
    "# 创建箱线图\n",
    "sns.boxplot(x='Category', y='value', data=df_combined_melted, hue='Column', showfliers=True, width=0.7, palette='Set1')\n",
    "\n",
    "plt.legend(title='')\n",
    "# 设置 y 轴上下限\n",
    "plt.ylim(-0.2, 0.6)\n",
    "\n",
    "\n",
    "# 设置图形背景为白色\n",
    "plt.gcf().set_facecolor('white')\n",
    "\n",
    "# 添加标题和标签\n",
    "# plt.title('Boxplots of Columns by Category')\n",
    "plt.xlabel('')\n",
    "plt.ylabel('PCC')\n",
    "\n",
    "# 显示图形\n",
    "# plt.show()\n",
    "plt.savefig('./figures/2_CSCC.pdf')\n",
    "# plt.savefig('./figures/CSCC.png', dpi=600)"
   ]
  },
  {
   "attachments": {},
   "cell_type": "markdown",
   "id": "16ad4213",
   "metadata": {},
   "source": [
    "Test her2st all!"
   ]
  },
  {
   "cell_type": "code",
   "execution_count": null,
   "id": "9c635e84",
   "metadata": {},
   "outputs": [],
   "source": [
    "folds=[]\n",
    "for i in range(32):\n",
    "    folds.append(i)\n",
    "print(folds)\n",
    "data='her2st'\n",
    "prune='Grid' if data=='her2st' else 'NA'\n",
    "genes=171 if data=='cscc' else 785\n",
    "\n",
    "for fold in folds:\n",
    "    testset = pk_load(fold,'test',dataset=data,flatten=False,adj=True,ori=True,prune=prune)\n",
    "    test_loader = DataLoader(testset, batch_size=1, num_workers=0, shuffle=False)\n",
    "    label=testset.label[testset.names[0]]\n",
    "    # genes=785\n",
    "    model=Hist2ST(\n",
    "        depth1=d1, depth2=d2,depth3=d3,n_genes=genes, \n",
    "        kernel_size=k, patch_size=p,\n",
    "        heads=h, channel=c, dropout=0.2,\n",
    "        zinb=0.25, nb=False,\n",
    "        bake=5, lamb=0.5,\n",
    "    )\n",
    "    model.load_state_dict(torch.load(f'./model/her2st_official/'+str(fold)+'-Hist2ST.ckpt'))\n",
    "    # model.load_state_dict(torch.load(f'./model/Hist2ST_Best_0.3031.ckpt'))\n",
    "    pred, gt = test(model, test_loader,'cuda')\n",
    "    R=get_R(pred,gt)[0]\n",
    "    print('Pearson Correlation Mean:',np.nanmean(R))  # 计算一个数组（或矩阵）中的非NaN（非数字）值的平均值。\n",
    "    print('Pearson Correlation Median:',np.nanmedian(R))"
   ]
  },
  {
   "attachments": {},
   "cell_type": "markdown",
   "id": "81625365",
   "metadata": {},
   "source": [
    "Test cscc all !"
   ]
  },
  {
   "cell_type": "code",
   "execution_count": null,
   "id": "7f8e63d8",
   "metadata": {},
   "outputs": [],
   "source": [
    "folds=[]\n",
    "for i in range(12):\n",
    "    folds.append(i)\n",
    "# print(folds)\n",
    "data='cscc'\n",
    "prune='Grid' if data=='her2st' else 'NA'\n",
    "genes=171 if data=='cscc' else 785\n",
    "\n",
    "for fold in folds:\n",
    "    testset = pk_load(fold,'test',dataset=data,flatten=False,adj=True,ori=True,prune=prune)\n",
    "    test_loader = DataLoader(testset, batch_size=1, num_workers=0, shuffle=False)\n",
    "\n",
    "    model=Hist2ST(\n",
    "        depth1=d1, depth2=d2,depth3=d3,n_genes=genes, \n",
    "        kernel_size=k, patch_size=p,\n",
    "        heads=h, channel=c, dropout=0.2,\n",
    "        zinb=0.25, nb=False,\n",
    "        bake=5, lamb=0.5,\n",
    "    )\n",
    "    model.load_state_dict(torch.load(f'./model/cSCC_official/'+str(fold)+'_skin'+'-Hist2ST.ckpt'))\n",
    "    # model.load_state_dict(torch.load(f'./model/Hist2ST_Best_0.3031.ckpt'))\n",
    "    pred, gt = test(model, test_loader,'cuda')\n",
    "    R=get_R(pred,gt)[0]\n",
    "    print('Pearson Correlation Mean:',np.nanmean(R))  # 计算一个数组（或矩阵）中的非NaN（非数字）值的平均值。\n",
    "    print('Pearson Correlation Median:',np.nanmedian(R))"
   ]
  },
  {
   "attachments": {},
   "cell_type": "markdown",
   "id": "1acd1d7d",
   "metadata": {},
   "source": [
    "均值体现模型大概性能，最后还是要画箱线图，取中间值.\n",
    "\n",
    "Top10 Gene，2个数据集，3个对比模型，直接用柱状图表示，选用我们最优的基因来展示。"
   ]
  },
  {
   "cell_type": "code",
   "execution_count": null,
   "id": "c3ab6173",
   "metadata": {},
   "outputs": [],
   "source": [
    "folds=[]\n",
    "for i in range(12):\n",
    "    folds.append(i)\n",
    "# print(folds)\n",
    "data='cscc'\n",
    "prune='Grid' if data=='her2st' else 'NA'\n",
    "genes=171 if data=='cscc' else 785\n",
    "gene_names = list(np.load('data/skin_hvg_cut_1000.npy',allow_pickle=True))\n",
    "\n",
    "def comp_tsne_km(adata,k=10):\n",
    "    sc.pp.pca(adata)\n",
    "    sc.tl.tsne(adata)\n",
    "    kmeans = KMeans(n_clusters=k, init=\"k-means++\", random_state=0).fit(adata.obsm['X_pca'])\n",
    "    adata.obs['kmeans'] = kmeans.labels_.astype(str)\n",
    "    return adata\n",
    "\n",
    "def get_PCC(adata_pre, adata_true):\n",
    "    # 提取 var_names 列的基因名称\n",
    "    gene_names = adata_pre.columns\n",
    "\n",
    "    # 初始化一个空的 DataFrame 用于存储结果\n",
    "    result_df = pd.DataFrame(index=['-log10_PV', 'PCC', 'PV',], columns=gene_names)\n",
    "\n",
    "    # 计算每一列的皮尔逊相关系数和 p-value\n",
    "    for gene in gene_names:\n",
    "        corr_coef, p_value = pearsonr(adata_pre[gene], adata_true[gene])\n",
    "        result_df[gene] = [-np.log10(p_value), corr_coef, p_value]\n",
    "\n",
    "    # 转置 DataFrame，使得基因名称成为索引\n",
    "    result_df = result_df.T\n",
    "\n",
    "    # 根据 PCC 指数排序\n",
    "    result_df_sorted = result_df.sort_values(by='-log10_PV', ascending=False)\n",
    "\n",
    "    return result_df_sorted\n",
    "\n",
    "results_all = []\n",
    "for fold in folds:\n",
    "    testset = pk_load(fold,'test',dataset=data,flatten=False,adj=True,ori=True,prune=prune)\n",
    "    test_loader = DataLoader(testset, batch_size=1, num_workers=0, shuffle=False)\n",
    "    model=Hist2ST(\n",
    "        depth1=d1, depth2=d2,depth3=d3,n_genes=genes, \n",
    "        kernel_size=k, patch_size=p,\n",
    "        heads=h, channel=c, dropout=0.2,\n",
    "        zinb=0.25, nb=False,\n",
    "        bake=5, lamb=0.5,\n",
    "    )\n",
    "    model.load_state_dict(torch.load(f'./model/cscc/'+str(fold)+'-HGGEP.ckpt'))\n",
    "    # model.load_state_dict(torch.load(f'./model/cSCC_official/'+str(fold)+'_skin-Hist2ST.ckpt'))\n",
    "    adata_pred, adata_truth = test(model, test_loader)\n",
    "\n",
    "    adata_pred = comp_tsne_km(adata_pred,4)\n",
    "    sc.pp.scale(adata_pred)\n",
    "    sc.pp.scale(adata_truth)\n",
    "    adata_pred.var_names = gene_names\n",
    "    adata_truth.var_names = gene_names\n",
    "    adata_true = pd.DataFrame(data=adata_truth.X, index=adata_truth.obs_names, columns=adata_truth.var_names)\n",
    "    adata_pre = pd.DataFrame(data=adata_pred.X, index=adata_pred.obs_names, columns=adata_pred.var_names)\n",
    "    res = get_PCC(adata_pre, adata_true)\n",
    "    # print(res)\n",
    "    results_all.append(res)\n"
   ]
  },
  {
   "cell_type": "code",
   "execution_count": 6,
   "id": "a39d6682",
   "metadata": {},
   "outputs": [
    {
     "name": "stdout",
     "output_type": "stream",
     "text": [
      "         -log10_PV       PCC            PV\n",
      "EIF5     33.192085  0.411756  1.044396e-11\n",
      "MSMO1    29.265893  0.384066  1.515783e-09\n",
      "STMN1    27.657350  0.374602  2.118015e-09\n",
      "PRDX4    26.203203  0.366622  4.144496e-09\n",
      "CASP14   25.330214  0.360725  4.421094e-09\n",
      "PPM1G    24.665134  0.355337  1.043308e-08\n",
      "NHP2     24.134356  0.351090  1.146501e-08\n",
      "KIF5B    23.693612  0.347940  2.586017e-08\n",
      "DDX21    23.125779  0.344281  3.031253e-08\n",
      "PRPF40A  22.012607  0.337491  3.431676e-08\n"
     ]
    }
   ],
   "source": [
    "# Calculate the mean across all DataFrames element-wise\n",
    "mean_df = np.mean([df.values for df in results_all], axis=0)\n",
    "\n",
    "# Create a new DataFrame with the mean values\n",
    "mean_df = pd.DataFrame(mean_df, index=results_all[0].index, columns=results_all[0].columns)\n",
    "\n",
    "# Print the resulting DataFrame\n",
    "print(mean_df[:10])\n",
    "\n",
    "#          -log10_PV       PCC            PV\n",
    "# EIF5     33.192085  0.411756  1.044396e-11\n",
    "# MSMO1    29.265893  0.384066  1.515783e-09\n",
    "# STMN1    27.657350  0.374602  2.118015e-09\n",
    "# PRDX4    26.203203  0.366622  4.144496e-09\n",
    "# CASP14   25.330214  0.360725  4.421094e-09\n",
    "# PPM1G    24.665134  0.355337  1.043308e-08\n",
    "# NHP2     24.134356  0.351090  1.146501e-08\n",
    "# KIF5B    23.693612  0.347940  2.586017e-08\n",
    "# DDX21    23.125779  0.344281  3.031253e-08\n",
    "# PRPF40A  22.012607  0.337491  3.431676e-08\n"
   ]
  },
  {
   "cell_type": "code",
   "execution_count": 9,
   "id": "6ae0a62d",
   "metadata": {},
   "outputs": [
    {
     "name": "stdout",
     "output_type": "stream",
     "text": [
      "te_names: ['P2_ST_rep1']\n",
      "Loading imgs...\n",
      "Loading metadata...\n"
     ]
    },
    {
     "name": "stderr",
     "output_type": "stream",
     "text": [
      "100%|██████████| 1/1 [00:00<00:00,  3.14it/s]\n"
     ]
    },
    {
     "name": "stdout",
     "output_type": "stream",
     "text": [
      "te_names: ['P2_ST_rep2']\n",
      "Loading imgs...\n",
      "Loading metadata...\n"
     ]
    },
    {
     "name": "stderr",
     "output_type": "stream",
     "text": [
      "100%|██████████| 1/1 [00:00<00:00,  2.30it/s]\n"
     ]
    },
    {
     "name": "stdout",
     "output_type": "stream",
     "text": [
      "te_names: ['P2_ST_rep3']\n",
      "Loading imgs...\n",
      "Loading metadata...\n"
     ]
    },
    {
     "name": "stderr",
     "output_type": "stream",
     "text": [
      "100%|██████████| 1/1 [00:00<00:00,  4.25it/s]\n"
     ]
    },
    {
     "name": "stdout",
     "output_type": "stream",
     "text": [
      "te_names: ['P5_ST_rep1']\n",
      "Loading imgs...\n",
      "Loading metadata...\n"
     ]
    },
    {
     "name": "stderr",
     "output_type": "stream",
     "text": [
      "100%|██████████| 1/1 [00:00<00:00,  3.54it/s]\n"
     ]
    },
    {
     "name": "stdout",
     "output_type": "stream",
     "text": [
      "te_names: ['P5_ST_rep2']\n",
      "Loading imgs...\n",
      "Loading metadata...\n"
     ]
    },
    {
     "name": "stderr",
     "output_type": "stream",
     "text": [
      "100%|██████████| 1/1 [00:00<00:00,  4.31it/s]\n"
     ]
    },
    {
     "name": "stdout",
     "output_type": "stream",
     "text": [
      "te_names: ['P5_ST_rep3']\n",
      "Loading imgs...\n",
      "Loading metadata...\n"
     ]
    },
    {
     "name": "stderr",
     "output_type": "stream",
     "text": [
      "100%|██████████| 1/1 [00:00<00:00,  1.76it/s]\n"
     ]
    },
    {
     "name": "stdout",
     "output_type": "stream",
     "text": [
      "te_names: ['P9_ST_rep1']\n",
      "Loading imgs...\n",
      "Loading metadata...\n"
     ]
    },
    {
     "name": "stderr",
     "output_type": "stream",
     "text": [
      "100%|██████████| 1/1 [00:00<00:00,  1.20it/s]\n"
     ]
    },
    {
     "name": "stdout",
     "output_type": "stream",
     "text": [
      "te_names: ['P9_ST_rep2']\n",
      "Loading imgs...\n",
      "Loading metadata...\n"
     ]
    },
    {
     "name": "stderr",
     "output_type": "stream",
     "text": [
      "100%|██████████| 1/1 [00:00<00:00,  1.23it/s]\n"
     ]
    },
    {
     "name": "stdout",
     "output_type": "stream",
     "text": [
      "te_names: ['P9_ST_rep3']\n",
      "Loading imgs...\n",
      "Loading metadata...\n"
     ]
    },
    {
     "name": "stderr",
     "output_type": "stream",
     "text": [
      "100%|██████████| 1/1 [00:00<00:00,  1.85it/s]\n"
     ]
    },
    {
     "name": "stdout",
     "output_type": "stream",
     "text": [
      "te_names: ['P10_ST_rep1']\n",
      "Loading imgs...\n",
      "Loading metadata...\n"
     ]
    },
    {
     "name": "stderr",
     "output_type": "stream",
     "text": [
      "100%|██████████| 1/1 [00:03<00:00,  3.70s/it]\n"
     ]
    },
    {
     "name": "stdout",
     "output_type": "stream",
     "text": [
      "te_names: ['P10_ST_rep2']\n",
      "Loading imgs...\n",
      "Loading metadata...\n"
     ]
    },
    {
     "name": "stderr",
     "output_type": "stream",
     "text": [
      "100%|██████████| 1/1 [00:00<00:00,  4.35it/s]\n"
     ]
    },
    {
     "name": "stdout",
     "output_type": "stream",
     "text": [
      "te_names: ['P10_ST_rep3']\n",
      "Loading imgs...\n",
      "Loading metadata...\n"
     ]
    },
    {
     "name": "stderr",
     "output_type": "stream",
     "text": [
      "100%|██████████| 1/1 [00:00<00:00,  3.57it/s]\n"
     ]
    }
   ],
   "source": [
    "# Hist2ST\n",
    "from HIST2ST_Baseline import *\n",
    "\n",
    "folds=[]\n",
    "for i in range(12):\n",
    "    folds.append(i)\n",
    "# print(folds)\n",
    "data='cscc'\n",
    "prune='Grid' if data=='her2st' else 'NA'\n",
    "genes=171 if data=='cscc' else 785\n",
    "gene_names = list(np.load('data/skin_hvg_cut_1000.npy',allow_pickle=True))\n",
    "\n",
    "def comp_tsne_km(adata,k=10):\n",
    "    sc.pp.pca(adata)\n",
    "    sc.tl.tsne(adata)\n",
    "    kmeans = KMeans(n_clusters=k, init=\"k-means++\", random_state=0).fit(adata.obsm['X_pca'])\n",
    "    adata.obs['kmeans'] = kmeans.labels_.astype(str)\n",
    "    return adata\n",
    "\n",
    "def get_PCC(adata_pre, adata_true):\n",
    "    # 提取 var_names 列的基因名称\n",
    "    gene_names = adata_pre.columns\n",
    "\n",
    "    # 初始化一个空的 DataFrame 用于存储结果\n",
    "    result_df = pd.DataFrame(index=['-log10_PV', 'PCC', 'PV',], columns=gene_names)\n",
    "\n",
    "    # 计算每一列的皮尔逊相关系数和 p-value\n",
    "    for gene in gene_names:\n",
    "        corr_coef, p_value = pearsonr(adata_pre[gene], adata_true[gene])\n",
    "        result_df[gene] = [-np.log10(p_value), corr_coef, p_value]\n",
    "\n",
    "    # 转置 DataFrame，使得基因名称成为索引\n",
    "    result_df = result_df.T\n",
    "\n",
    "    # 根据 PCC 指数排序\n",
    "    result_df_sorted = result_df.sort_values(by='-log10_PV', ascending=False)\n",
    "\n",
    "    return result_df_sorted\n",
    "\n",
    "CSCC_results_all = []\n",
    "for fold in folds:\n",
    "    testset = pk_load(fold,'test',dataset=data,flatten=False,adj=True,ori=True,prune=prune)\n",
    "    test_loader = DataLoader(testset, batch_size=1, num_workers=0, shuffle=False)\n",
    "    model=Hist2ST(\n",
    "        depth1=d1, depth2=d2,depth3=d3,n_genes=genes, \n",
    "        kernel_size=k, patch_size=p,\n",
    "        heads=h, channel=c, dropout=0.2,\n",
    "        zinb=0.25, nb=False,\n",
    "        bake=5, lamb=0.5,\n",
    "    )\n",
    "    # model.load_state_dict(torch.load(f'./model/cscc/'+str(fold)+'-HGGEP.ckpt'))\n",
    "    model.load_state_dict(torch.load(f'./model/cSCC_official/'+str(fold)+'_skin-Hist2ST.ckpt'))\n",
    "    adata_pred, adata_truth = test(model, test_loader)\n",
    "\n",
    "    adata_pred = comp_tsne_km(adata_pred,4)\n",
    "    sc.pp.scale(adata_pred)\n",
    "    sc.pp.scale(adata_truth)\n",
    "    adata_pred.var_names = gene_names\n",
    "    adata_truth.var_names = gene_names\n",
    "    adata_true = pd.DataFrame(data=adata_truth.X, index=adata_truth.obs_names, columns=adata_truth.var_names)\n",
    "    adata_pre = pd.DataFrame(data=adata_pred.X, index=adata_pred.obs_names, columns=adata_pred.var_names)\n",
    "    res = get_PCC(adata_pre, adata_true)\n",
    "    # print(res)\n",
    "    CSCC_results_all.append(res)\n"
   ]
  },
  {
   "cell_type": "code",
   "execution_count": 11,
   "id": "6fefe525",
   "metadata": {},
   "outputs": [
    {
     "name": "stdout",
     "output_type": "stream",
     "text": [
      "        -log10_PV       PCC            PV\n",
      "ITGA6   27.445375  0.377728  8.647593e-11\n",
      "CASP14  25.413297  0.360547  8.350950e-10\n",
      "PMEPA1  24.000534  0.348059  1.073011e-08\n",
      "MTDH    22.823049  0.340545  1.363215e-08\n",
      "MSMO1   21.324091  0.326542  9.597731e-08\n",
      "KIF5B   20.864708  0.323087  1.094107e-07\n",
      "PSMA7   20.309960  0.318816  1.400973e-07\n",
      "SPINK5  19.784245  0.313636  4.717253e-07\n",
      "PRDX4   19.471548  0.311021  5.167994e-07\n",
      "PI3     19.089026  0.307141  1.700073e-06\n",
      "-log10_PV    18.165481\n",
      "PCC           0.300335\n",
      "PV            0.000003\n",
      "Name: EIF5, dtype: float64\n",
      "-log10_PV    2.132409e+01\n",
      "PCC          3.265417e-01\n",
      "PV           9.597731e-08\n",
      "Name: MSMO1, dtype: float64\n",
      "-log10_PV    12.164074\n",
      "PCC           0.244271\n",
      "PV            0.000150\n",
      "Name: STMN1, dtype: float64\n",
      "-log10_PV    1.947155e+01\n",
      "PCC          3.110205e-01\n",
      "PV           5.167994e-07\n",
      "Name: PRDX4, dtype: float64\n",
      "-log10_PV    2.541330e+01\n",
      "PCC          3.605468e-01\n",
      "PV           8.350950e-10\n",
      "Name: CASP14, dtype: float64\n",
      "-log10_PV    7.154755\n",
      "PCC          0.185025\n",
      "PV           0.004733\n",
      "Name: PPM1G, dtype: float64\n",
      "-log10_PV    17.866395\n",
      "PCC           0.297573\n",
      "PV            0.000004\n",
      "Name: NHP2, dtype: float64\n",
      "-log10_PV    2.086471e+01\n",
      "PCC          3.230871e-01\n",
      "PV           1.094107e-07\n",
      "Name: KIF5B, dtype: float64\n",
      "-log10_PV    9.316396\n",
      "PCC          0.214541\n",
      "PV           0.000758\n",
      "Name: DDX21, dtype: float64\n",
      "-log10_PV    15.438768\n",
      "PCC           0.277182\n",
      "PV            0.000012\n",
      "Name: PRPF40A, dtype: float64\n"
     ]
    }
   ],
   "source": [
    "# 计算对应的基因的表达量 ： Hist2ST\n",
    "# Calculate the mean across all DataFrames element-wise\n",
    "mean_df = np.mean([df.values for df in CSCC_results_all], axis=0)\n",
    "\n",
    "# Create a new DataFrame with the mean values\n",
    "mean_df = pd.DataFrame(mean_df, index=CSCC_results_all[0].index, columns=CSCC_results_all[0].columns)\n",
    "print(mean_df[:10])\n",
    "# Print the resulting DataFrame\n",
    "for gene in ['EIF5', 'MSMO1', 'STMN1', 'PRDX4', 'CASP14', 'PPM1G', 'NHP2', 'KIF5B', 'DDX21', 'PRPF40A']:\n",
    "    print(mean_df.loc[gene])"
   ]
  },
  {
   "attachments": {},
   "cell_type": "markdown",
   "id": "a5d09906",
   "metadata": {},
   "source": [
    "# Figure 4 Performance comparison of top 10 gene predictions at cSCC datasets"
   ]
  },
  {
   "cell_type": "code",
   "execution_count": 29,
   "id": "80f8b031",
   "metadata": {},
   "outputs": [
    {
     "data": {
      "image/png": "[encoded data removed]",
      "text/plain": [
       "<Figure size 432x288 with 1 Axes>"
      ]
     },
     "metadata": {},
     "output_type": "display_data"
    }
   ],
   "source": [
    "import matplotlib.pyplot as plt\n",
    "import numpy as np\n",
    "from matplotlib.ticker import FormatStrFormatter\n",
    "\n",
    "# 模拟数据，实际应替换为您的数据\n",
    "genes = ['EIF5', 'MSMO1', 'STMN1', 'PRDX4', 'CASP14', 'PPM1G', 'NHP2', 'KIF5B', 'DDX21', 'PRPF40A']\n",
    "# hist2st_data = np.random.rand(10)  # 替换为Hist2ST模型的PCC数据\n",
    "hist2st_data = [0.300335, 3.265417e-01, 0.244271, 3.110205e-01, 3.605468e-01, 0.185025, 0.297573, 3.230871e-01, 0.214541, 0.277182]\n",
    "hggep_data = [ 0.411756, 0.384066, 0.374602, 0.366622, 0.360725, 0.355337, 0.351090, 0.347940, 0.344281, 0.337491]   # 替换为HGGEP模型的PCC数据\n",
    "\n",
    "# 为每个基因生成不同的颜色\n",
    "colors = plt.cm.rainbow(np.linspace(0, 1, 10))\n",
    "\n",
    "# 绘制散点图\n",
    "for i in range(10):\n",
    "    plt.scatter(hist2st_data[i], hggep_data[i], label=genes[i], color=colors[i])\n",
    "\n",
    "# 添加标签和标题\n",
    "plt.xlabel('Hist2ST', fontweight='bold')\n",
    "plt.ylabel('HGGEP', fontweight='bold')\n",
    "plt.title('')\n",
    "\n",
    "# 绘制对角虚线\n",
    "plt.plot([0, 1], [0, 1], linestyle='--', color='gray', transform=plt.gca().transAxes)\n",
    "\n",
    "# 设置坐标轴纵横比例相等\n",
    "plt.gca().set_aspect('equal', adjustable='box')\n",
    "\n",
    "# 设置图形背景为白色\n",
    "plt.gcf().set_facecolor('white')\n",
    "\n",
    "# 设置横纵轴的阈值范围为1\n",
    "plt.xlim(0.1, 0.5)\n",
    "plt.ylim(0.1, 0.5)\n",
    "\n",
    "# 设置刻度线\n",
    "plt.xticks(np.linspace(0.1, 0.5, 5))  # 在横轴上设置刻度线\n",
    "plt.yticks(np.linspace(0.1, 0.5, 5))  # 在纵轴上设置刻度线\n",
    "\n",
    "# 设置刻度线，并保留两位小数\n",
    "plt.gca().xaxis.set_major_formatter(FormatStrFormatter('%.1f'))\n",
    "plt.gca().yaxis.set_major_formatter(FormatStrFormatter('%.1f'))\n",
    "\n",
    "# 设置刻度值字体大小\n",
    "plt.xticks(fontsize=12)\n",
    "plt.yticks(fontsize=12)\n",
    "\n",
    "# 保存高清图像\n",
    "plt.savefig('./figures/4_4.pdf')\n",
    "\n",
    "# 显示图表\n",
    "plt.show()\n"
   ]
  },
  {
   "cell_type": "code",
   "execution_count": 28,
   "id": "7c82a159",
   "metadata": {},
   "outputs": [
    {
     "data": {
      "image/png": "[encoded data removed]",
      "text/plain": [
       "<Figure size 432x288 with 1 Axes>"
      ]
     },
     "metadata": {},
     "output_type": "display_data"
    }
   ],
   "source": [
    "# HisToGene\n",
    "\n",
    "import matplotlib.pyplot as plt\n",
    "import numpy as np\n",
    "from matplotlib.ticker import FormatStrFormatter\n",
    "\n",
    "# 模拟数据，实际应替换为您的数据\n",
    "genes = ['EIF5', 'MSMO1', 'STMN1', 'PRDX4', 'CASP14', 'PPM1G', 'NHP2', 'KIF5B', 'DDX21', 'PRPF40A']\n",
    "# hist2st_data = np.random.rand(10)  # 替换为Hist2ST模型的PCC数据\n",
    "hist2st_data = [0.175290, 0.231041, 0.130781, 0.059450, 0.092114, 0.118048, 0.131355, 0.200790, 0.059416, 0.115046]\n",
    "hggep_data = [ 0.411756, 0.384066, 0.374602, 0.366622, 0.360725, 0.355337, 0.351090, 0.347940, 0.344281, 0.337491]   # 替换为HGGEP模型的PCC数据\n",
    "\n",
    "# 为每个基因生成不同的颜色\n",
    "colors = plt.cm.rainbow(np.linspace(0, 1, 10))\n",
    "\n",
    "# 绘制散点图\n",
    "for i in range(10):\n",
    "    plt.scatter(hist2st_data[i], hggep_data[i], label=genes[i], color=colors[i])\n",
    "\n",
    "# 添加标签和标题\n",
    "plt.xlabel('HisToGene', fontweight='bold')\n",
    "plt.ylabel('HGGEP', fontweight='bold')\n",
    "# plt.title('')\n",
    "\n",
    "# 绘制对角虚线\n",
    "plt.plot([0, 1], [0, 1], linestyle='--', color='gray', transform=plt.gca().transAxes)\n",
    "\n",
    "# 设置坐标轴纵横比例相等\n",
    "plt.gca().set_aspect('equal', adjustable='box')\n",
    "\n",
    "# 设置图形背景为白色\n",
    "plt.gcf().set_facecolor('white')\n",
    "\n",
    "# 设置横纵轴的阈值范围为1\n",
    "plt.xlim(0.0, 0.5)\n",
    "plt.ylim(0.0, 0.5)\n",
    "\n",
    "# 设置刻度线\n",
    "plt.xticks(np.linspace(0.0, 0.5, 6))  # 在横轴上设置刻度线\n",
    "plt.yticks(np.linspace(0.0, 0.5, 6))  # 在纵轴上设置刻度线\n",
    "\n",
    "# 设置刻度线，并保留两位小数\n",
    "plt.gca().xaxis.set_major_formatter(FormatStrFormatter('%.1f'))\n",
    "plt.gca().yaxis.set_major_formatter(FormatStrFormatter('%.1f'))\n",
    "\n",
    "# 设置刻度值字体大小\n",
    "plt.xticks(fontsize=12)\n",
    "plt.yticks(fontsize=12)\n",
    "\n",
    "plt.savefig('./figures/4_3.pdf')\n",
    "\n",
    "# 显示图表\n",
    "plt.show()"
   ]
  },
  {
   "cell_type": "code",
   "execution_count": 52,
   "id": "8f3ac3e2",
   "metadata": {},
   "outputs": [
    {
     "data": {
      "image/png": "[encoded data removed]",
      "text/plain": [
       "<Figure size 432x288 with 1 Axes>"
      ]
     },
     "metadata": {},
     "output_type": "display_data"
    }
   ],
   "source": [
    "# HisToGene\n",
    "\n",
    "import matplotlib.pyplot as plt\n",
    "import numpy as np\n",
    "from matplotlib.ticker import FormatStrFormatter\n",
    "\n",
    "# 模拟数据，实际应替换为您的数据\n",
    "genes = ['EIF5', 'MSMO1', 'STMN1', 'PRDX4', 'CASP14', 'PPM1G', 'NHP2', 'KIF5B', 'DDX21', 'PRPF40A']\n",
    "# hist2st_data = np.random.rand(10)  # 替换为Hist2ST模型的PCC数据\n",
    "hist2st_data = [0.175290, 0.231041, 0.130781, 0.059450, 0.092114, 0.118048, 0.131355, 0.200790, 0.059416, 0.115046]\n",
    "hggep_data = [ 0.411756, 0.384066, 0.374602, 0.366622, 0.360725, 0.355337, 0.351090, 0.347940, 0.344281, 0.337491]   # 替换为HGGEP模型的PCC数据\n",
    "\n",
    "# 为每个基因生成不同的颜色\n",
    "colors = plt.cm.rainbow(np.linspace(0, 1, 10))\n",
    "\n",
    "# 绘制散点图\n",
    "for i in range(10):\n",
    "    plt.scatter(hist2st_data[i], hggep_data[i], label=genes[i], color=colors[i])\n",
    "\n",
    "# 添加标签和标题\n",
    "plt.xlabel('HisToGene', fontweight='bold')\n",
    "plt.ylabel('HGGEP', fontweight='bold')\n",
    "# plt.title('')\n",
    "\n",
    "# 绘制对角虚线\n",
    "plt.plot([0, 1], [0, 1], linestyle='--', color='gray', transform=plt.gca().transAxes)\n",
    "\n",
    "# 统一注释放在图外，并附带颜色小点\n",
    "# for i, gene in enumerate(genes):\n",
    "    # # plt.figtext(1.05, 0.92 - i * 0.04, f\"{gene}\", color=colors[i], ha='left', fontsize=10)\n",
    "    # plt.scatter(0.4, 0.91 - i * 0.1, color=colors[i], s=30, marker='o')\n",
    "\n",
    "\n",
    "# 设置坐标轴纵横比例相等\n",
    "plt.gca().set_aspect('equal', adjustable='box')\n",
    "\n",
    "# 设置图形背景为白色\n",
    "plt.gcf().set_facecolor('white')\n",
    "\n",
    "# 设置横纵轴的阈值范围为1\n",
    "plt.xlim(0.0, 0.5)\n",
    "plt.ylim(0.0, 0.5)\n",
    "\n",
    "# 设置刻度线\n",
    "plt.xticks(np.linspace(0.0, 0.5, 5))  # 在横轴上设置刻度线\n",
    "plt.yticks(np.linspace(0.0, 0.5, 5))  # 在纵轴上设置刻度线\n",
    "\n",
    "# 设置刻度线，并保留两位小数\n",
    "plt.gca().xaxis.set_major_formatter(FormatStrFormatter('%.1f'))\n",
    "plt.gca().yaxis.set_major_formatter(FormatStrFormatter('%.1f'))\n",
    "\n",
    "# 设置刻度值字体大小\n",
    "plt.xticks(fontsize=12)\n",
    "plt.yticks(fontsize=12)\n",
    "\n",
    "# 保存高清图像\n",
    "plt.savefig('./Output/comparison_plot.png', dpi=600)\n",
    "\n",
    "# 显示图表\n",
    "plt.show()"
   ]
  },
  {
   "cell_type": "code",
   "execution_count": null,
   "id": "42bcd945",
   "metadata": {},
   "outputs": [],
   "source": []
  },
  {
   "attachments": {},
   "cell_type": "markdown",
   "id": "288ea152",
   "metadata": {},
   "source": [
    "# 整合所有模型的值\n",
    "# HGGEP\n",
    "\n",
    "          -log10_PV       PCC            PV\n",
    " EIF5     33.192085  0.411756  1.044396e-11\n",
    " MSMO1    29.265893  0.384066  1.515783e-09\n",
    " STMN1    27.657350  0.374602  2.118015e-09\n",
    " PRDX4    26.203203  0.366622  4.144496e-09\n",
    " CASP14   25.330214  0.360725  4.421094e-09\n",
    " PPM1G    24.665134  0.355337  1.043308e-08\n",
    " NHP2     24.134356  0.351090  1.146501e-08\n",
    " KIF5B    23.693612  0.347940  2.586017e-08\n",
    " DDX21    23.125779  0.344281  3.031253e-08\n",
    " PRPF40A  22.012607  0.337491  3.431676e-08\n",
    "\n",
    "\n",
    "# HisToGene\n",
    "        -log10_PV       PCC        PV\n",
    "NEFL    15.215788  0.262868  0.000610\n",
    "MSMO1   13.084469  0.231041  0.001423\n",
    "PI3     11.509860  0.216406  0.001552\n",
    "SPRR2D  10.548399  0.210994  0.002019\n",
    "FDFT1    9.611303  0.193588  0.002579\n",
    "ANXA1    8.874972  0.192113  0.003192\n",
    "KIF5B    8.398426  0.200790  0.004157\n",
    "EIF5     7.601206  0.175290  0.005606\n",
    "IGFL1    7.293440  0.185138  0.006195\n",
    "RALA     7.032634  0.181865  0.006496\n",
    "\n",
    "\n",
    "# Hist2ST\n",
    "        -log10_PV       PCC            PV\n",
    "ITGA6   27.445375  0.377728  8.647593e-11\n",
    "CASP14  25.413297  0.360547  8.350950e-10\n",
    "PMEPA1  24.000534  0.348059  1.073011e-08\n",
    "MTDH    22.823049  0.340545  1.363215e-08\n",
    "MSMO1   21.324091  0.326542  9.597731e-08\n",
    "KIF5B   20.864708  0.323087  1.094107e-07\n",
    "PSMA7   20.309960  0.318816  1.400973e-07\n",
    "SPINK5  19.784245  0.313636  4.717253e-07\n",
    "PRDX4   19.471548  0.311021  5.167994e-07\n",
    "PI3     19.089026  0.307141  1.700073e-06"
   ]
  }
 ],
 "metadata": {
  "kernelspec": {
   "display_name": "gtn",
   "language": "python",
   "name": "python3"
  },
  "language_info": {
   "codemirror_mode": {
    "name": "ipython",
    "version": 3
   },
   "file_extension": ".py",
   "mimetype": "text/x-python",
   "name": "python",
   "nbconvert_exporter": "python",
   "pygments_lexer": "ipython3",
   "version": "3.8.13"
  },
  "pycharm": {
   "stem_cell": {
    "cell_type": "raw",
    "metadata": {
     "collapsed": false
    },
    "source": []
   }
  },
  "vscode": {
   "interpreter": {
    "hash": "f5bc5193494f8e31bb35f143e2e9d2a9395cc76e28c0276d02df8e52647f48fb"
   }
  }
 },
 "nbformat": 4,
 "nbformat_minor": 5
}
