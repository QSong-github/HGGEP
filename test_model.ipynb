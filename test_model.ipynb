{
 "cells": [
  {
   "cell_type": "code",
   "execution_count": 1,
   "id": "053309c2-cb6d-4623-83b7-7b0d947998e6",
   "metadata": {},
   "outputs": [
    {
     "name": "stderr",
     "output_type": "stream",
     "text": [
      "/home/zy/anaconda3/envs/gtn/lib/python3.8/site-packages/tqdm/auto.py:22: TqdmWarning: IProgress not found. Please update jupyter and ipywidgets. See https://ipywidgets.readthedocs.io/en/stable/user_install.html\n",
      "  from .autonotebook import tqdm as notebook_tqdm\n",
      "/home/zy/anaconda3/envs/gtn/lib/python3.8/site-packages/scipy/__init__.py:146: UserWarning: A NumPy version >=1.16.5 and <1.23.0 is required for this version of SciPy (detected version 1.24.4\n",
      "  warnings.warn(f\"A NumPy version >={np_minversion} and <{np_maxversion}\"\n"
     ]
    },
    {
     "name": "stdout",
     "output_type": "stream",
     "text": [
      "[easydl] tensorflow not available!\n"
     ]
    }
   ],
   "source": [
    "import torch\n",
    "import numpy as np\n",
    "import pytorch_lightning as pl\n",
    "import torchvision.transforms as tf\n",
    "from tqdm import tqdm\n",
    "from predict import *\n",
    "from HGGEP import *\n",
    "from dataset import ViT_HER2ST, ViT_SKIN\n",
    "from scipy.stats import pearsonr,spearmanr\n",
    "from torch.utils.data import DataLoader\n",
    "from pytorch_lightning.loggers import TensorBoardLogger\n",
    "from copy import deepcopy as dcp\n",
    "from collections import defaultdict as dfd\n",
    "from sklearn.metrics import adjusted_rand_score as ari_score\n",
    "from sklearn.metrics.cluster import normalized_mutual_info_score as nmi_score"
   ]
  },
  {
   "cell_type": "markdown",
   "id": "b132bfb4-bd29-44fa-bbca-3790b0848fd4",
   "metadata": {},
   "source": [
    "# Data Loading"
   ]
  },
  {
   "cell_type": "code",
   "execution_count": 2,
   "id": "6281d8f2-e5f7-4c26-88bf-5256197b1418",
   "metadata": {
    "tags": []
   },
   "outputs": [],
   "source": [
    "name=[*[f'A{i}' for i in range(2,7)],*[f'B{i}' for i in range(1,7)],\n",
    "      *[f'C{i}' for i in range(1,7)],*[f'D{i}' for i in range(1,7)],\n",
    "      *[f'E{i}' for i in range(1,4)],*[f'F{i}' for i in range(1,4)],*[f'G{i}' for i in range(1,4)]]\n",
    "patients = ['P2', 'P5', 'P9', 'P10']\n",
    "reps = ['rep1', 'rep2', 'rep3']\n",
    "skinname = []\n",
    "for i in patients:\n",
    "    for j in reps:\n",
    "        skinname.append(i+'_ST_'+j)\n",
    "device='cuda'\n",
    "tag='5-7-2-8-4-16-32'\n",
    "k,p,d1,d2,d3,h,c=map(lambda x:int(x),tag.split('-'))\n",
    "dropout=0.2\n",
    "random.seed(12000)\n",
    "np.random.seed(12000)\n",
    "torch.manual_seed(12000)\n",
    "torch.cuda.manual_seed(12000)\n",
    "torch.cuda.manual_seed_all(12000)  \n",
    "torch.backends.cudnn.benchmark = False\n",
    "torch.backends.cudnn.deterministic = True"
   ]
  },
  {
   "cell_type": "markdown",
   "id": "e8d22dca",
   "metadata": {
    "collapsed": false
   },
   "source": [
    "\n",
    "# Hist2ST Prediction\n",
    "\n",
    "### To run the trained model, please select the trained model and replace the value of the variable fold with the number in the name of the selected trained model."
   ]
  },
  {
   "attachments": {},
   "cell_type": "markdown",
   "id": "4975e465",
   "metadata": {},
   "source": [
    "Test one!"
   ]
  },
  {
   "cell_type": "code",
   "execution_count": 4,
   "id": "76cfcfb9-3169-46da-9288-2e2be7942d84",
   "metadata": {},
   "outputs": [
    {
     "name": "stdout",
     "output_type": "stream",
     "text": [
      "te_names: ['C2']\n",
      "Loading imgs...\n",
      "Loading metadata...\n"
     ]
    }
   ],
   "source": [
    "fold=12\n",
    "data='her2st'\n",
    "prune='Grid' if data=='her2st' else 'NA'\n",
    "genes=171 if data=='cscc' else 785\n",
    "\n",
    "testset = pk_load(fold,'test',dataset=data,flatten=False,adj=True,ori=True,prune=prune)\n",
    "test_loader = DataLoader(testset, batch_size=1, num_workers=0, shuffle=False)\n",
    "label=testset.label[testset.names[0]]\n",
    "genes=785\n",
    "model=HGGEP(\n",
    "    depth1=d1, depth2=d2,depth3=d3,n_genes=genes, \n",
    "    kernel_size=k, patch_size=p,\n",
    "    heads=h, channel=c, dropout=0.2,\n",
    "    zinb=0.25, nb=False,\n",
    "    bake=5, lamb=0.5, \n",
    ")"
   ]
  },
  {
   "cell_type": "code",
   "execution_count": null,
   "id": "28741089",
   "metadata": {},
   "outputs": [],
   "source": [
    "# Test all\n",
    "\n",
    "folds=[]\n",
    "for i in range(32):\n",
    "    folds.append(i)\n",
    "print(folds)\n",
    "data='her2st'\n",
    "prune='Grid' if data=='her2st' else 'NA'\n",
    "genes=171 if data=='cscc' else 785\n",
    "\n",
    "R_HGGEP = []\n",
    "\n",
    "for fold in folds:\n",
    "    testset = pk_load(fold,'test',dataset=data,flatten=False,adj=True,ori=True,prune=prune)\n",
    "    test_loader = DataLoader(testset, batch_size=1, num_workers=0, shuffle=False)\n",
    "    label=testset.label[testset.names[0]]\n",
    "    # genes=785\n",
    "    model=HGGEP(\n",
    "        depth1=d1, depth2=d2,depth3=d3,n_genes=genes, \n",
    "        kernel_size=k, patch_size=p,\n",
    "        heads=h, channel=c, dropout=0.2,\n",
    "        zinb=0.25, nb=False,\n",
    "        bake=0, lamb=0.5,\n",
    "    )\n",
    "    model.load_state_dict(torch.load(f'./model/her2st/'+str(fold)+'-HGGEP.ckpt'))\n",
    "    pred, gt = test(model, test_loader,'cuda')\n",
    "    R=get_R(pred,gt)[0]\n",
    "    R_HGGEP.append(R)\n",
    "    print('Pearson Correlation Median:',np.nanmedian(R))"
   ]
  },
  {
   "cell_type": "code",
   "execution_count": 21,
   "id": "8fd5c203",
   "metadata": {},
   "outputs": [],
   "source": [
    "# add mean and median\n",
    "\n",
    "import numpy as np\n",
    "\n",
    "# print(len(R_HGGEP))\n",
    "# print(len(R_Hist2ST))\n",
    "\n",
    "# # add mean and median\n",
    "# mean_HGGEP = np.mean(R_STNet, axis=0)\n",
    "# # mean_Hist2ST = np.mean(R_Hist2ST, axis=0)\n",
    "\n",
    "# median_HGGEP = np.median(R_STNet, axis=0)\n",
    "# # median_Hist2ST = np.median(R_Hist2ST, axis=0)\n",
    "\n",
    "# R_HGGEP_with_mean_median = np.vstack([R_STNet, mean_HGGEP, median_HGGEP])\n",
    "# # R_Hist2ST_with_mean_median = np.vstack([R_Hist2ST, mean_Hist2ST, median_Hist2ST])\n",
    "\n",
    "\n",
    "# # print(R_HGGEP_with_mean_median.shape)\n",
    "# # print(R_Hist2ST_with_mean_median.shape)\n",
    "# print(R_HGGEP_with_mean_median.shape, R_HGGEP_with_mean_median[-1][:10]) \n",
    "\n",
    "# np.save('./Output/STNet_her2.npy', R_HGGEP_with_mean_median)\n",
    "# np.save('Hist2ST_output.npy', R_Hist2ST_with_mean_median)\n",
    "\n",
    "R_HGGEP_with_mean_median = np.load('./Output/HGGEP_her2.npy')\n",
    "R_Hist2ST_with_mean_median = np.load('./Output/Hist2ST_her2.npy')\n",
    "R_HisToGene_with_mean_median = np.load('./Output/HisToGene_her2.npy')\n",
    "R_STNet_with_mean_median = np.load('./Output/STNet_her2.npy')\n"
   ]
  },
  {
   "cell_type": "code",
   "execution_count": 8,
   "id": "4edf491c",
   "metadata": {},
   "outputs": [
    {
     "name": "stdout",
     "output_type": "stream",
     "text": [
      "(34, 785)\n",
      "(34, 785)\n",
      "(34, 785)\n",
      "(34, 785)\n",
      "Mean HGGEP: [0.19456845]\n",
      "Mean Hist2ST: [0.15636345]\n",
      "Median HGGEP: 0.11109329471896254\n",
      "Median Hist2ST: 0.0950236368053993\n"
     ]
    }
   ],
   "source": [
    "print(R_HGGEP_with_mean_median.shape) \n",
    "print(R_Hist2ST_with_mean_median.shape)\n",
    "print(R_HisToGene_with_mean_median.shape)\n",
    "print(R_HisToGene_with_mean_median.shape)\n",
    "\n",
    "# Extract the last subarrays\n",
    "last_subarray_HGGEP = R_HGGEP_with_mean_median[-2, :]\n",
    "last_subarray_Hist2ST = R_Hist2ST_with_mean_median[-2, :]\n",
    "# Convert to Pandas DataFrame\n",
    "df_last_HGGEP = pd.DataFrame(last_subarray_HGGEP)\n",
    "df_last_Hist2ST = pd.DataFrame(last_subarray_Hist2ST)\n",
    "\n",
    "# Calculate mean and median using Pandas DataFrame methods\n",
    "mean_HGGEP = df_last_HGGEP.mean().values\n",
    "mean_Hist2ST = df_last_Hist2ST.mean().values\n",
    "\n",
    "median_HGGEP = np.median(R_HGGEP_with_mean_median[:, -1])\n",
    "median_Hist2ST = np.median(R_Hist2ST_with_mean_median[:, -1])\n",
    "\n",
    "\n",
    "# Print the results\n",
    "print(\"Mean HGGEP:\", mean_HGGEP)\n",
    "print(\"Mean Hist2ST:\", mean_Hist2ST)\n",
    "print(\"Median HGGEP:\", median_HGGEP)\n",
    "print(\"Median Hist2ST:\", median_Hist2ST)"
   ]
  },
  {
   "attachments": {},
   "cell_type": "markdown",
   "id": "70a0f858",
   "metadata": {},
   "source": [
    "# Figure 2, comprasion of different models"
   ]
  },
  {
   "cell_type": "code",
   "execution_count": 22,
   "id": "0aae38db",
   "metadata": {},
   "outputs": [
    {
     "data": {
      "image/png": "[encoded data removed]",
      "text/plain": [
       "<Figure size 1728x432 with 1 Axes>"
      ]
     },
     "metadata": {},
     "output_type": "display_data"
    }
   ],
   "source": [
    "import warnings\n",
    "warnings.filterwarnings(\"ignore\")\n",
    "import seaborn as sns\n",
    "import matplotlib.pyplot as plt\n",
    "import numpy as np\n",
    "import pandas as pd\n",
    "\n",
    "R_HGGEP_with_mean_median = np.load('./Output/HGGEP_her2.npy')\n",
    "R_Hist2ST_with_mean_median = np.load('./Output/Hist2ST_her2.npy')\n",
    "R_HisToGene_with_mean_median = np.load('./Output/HisToGene_her2.npy')\n",
    "R_STNet_with_mean_median = np.load('./Output/STNet_her2.npy')\n",
    "\n",
    "\n",
    "x_label = ['A2', 'A3', 'A4', 'A5', 'A6', 'B1', 'B2', 'B3', 'B4', 'B5', 'B6', 'C1', 'C2', 'C3', \\\n",
    "           'C4', 'C5', 'C6', 'D1', 'D2', 'D3', 'D4', 'D5', 'D6', 'E1', 'E2', 'E3', 'F1', 'F2', 'F3', 'G1', 'G2', 'G3', 'Mean', 'Median']\n",
    "\n",
    "df_combined = pd.DataFrame()\n",
    "\n",
    "for i in range(34):\n",
    "    df_class_i = pd.DataFrame(np.transpose(np.array([R_HGGEP_with_mean_median[i], R_Hist2ST_with_mean_median[i],\\\n",
    "                                                      R_HisToGene_with_mean_median[i], R_STNet_with_mean_median[i]])),\\\n",
    "                                                      columns=['HGGEP', 'Hist2ST', 'HisToGene', 'STNet'])\n",
    "    # df_class_i = pd.DataFrame(data_class1, columns=['HGGEP', 'Hist2ST', 'HisToGene'])\n",
    "    df_class_i['Category'] = x_label[i]\n",
    "\n",
    "    df_combined = df_combined._append(df_class_i, ignore_index=True)\n",
    "\n",
    "df_combined_melted = pd.melt(df_combined, id_vars=['Category'], var_name='Column')\n",
    "\n",
    "plt.figure(figsize=(24, 6))  # width and high\n",
    "\n",
    "# sns.boxplot(x='Category', y='value', data=df_combined_melted, hue='Column', showfliers=True, width=0.8, palette='Set2')\n",
    "boxplot = sns.boxplot(x='Category', y='value', data=df_combined_melted, hue='Column', showfliers=True, width=0.8, palette='Set1')\n",
    "\n",
    "plt.ylim(-0.4, 0.8)\n",
    "\n",
    "plt.gcf().set_facecolor('white')\n",
    "\n",
    "plt.legend(title='')\n",
    "\n",
    "# plt.title('Boxplots of Columns by Category')\n",
    "plt.xlabel('')\n",
    "plt.ylabel('PCC')\n",
    "\n",
    "# plt.show()\n",
    "plt.savefig('./figures/2_HER2+.pdf')\n",
    "# plt.savefig('./figures/HER2+.png', dpi=600)"
   ]
  },
  {
   "attachments": {},
   "cell_type": "markdown",
   "id": "16ad4213",
   "metadata": {},
   "source": [
    "# Test her2st all!"
   ]
  },
  {
   "cell_type": "code",
   "execution_count": null,
   "id": "9c635e84",
   "metadata": {},
   "outputs": [],
   "source": [
    "folds=[]\n",
    "from HGGEP import *\n",
    "for i in range(32):\n",
    "    folds.append(i)\n",
    "\n",
    "data='her2st'\n",
    "prune='Grid' if data=='her2st' else 'NA'\n",
    "genes=171 if data=='cscc' else 785\n",
    "gene_names = list(np.load('data/her_hvg_cut_1000.npy',allow_pickle=True))\n",
    "\n",
    "def comp_tsne_km(adata,k=10):\n",
    "    sc.pp.pca(adata)\n",
    "    sc.tl.tsne(adata)\n",
    "    kmeans = KMeans(n_clusters=k, init=\"k-means++\", random_state=0).fit(adata.obsm['X_pca'])\n",
    "    adata.obs['kmeans'] = kmeans.labels_.astype(str)\n",
    "    return adata\n",
    "\n",
    "def get_PCC(adata_pre, adata_true):\n",
    "    gene_names = adata_pre.columns\n",
    "    result_df = pd.DataFrame(index=['-log10_PV', 'PCC', 'PV',], columns=gene_names)\n",
    "    for gene in gene_names:\n",
    "        corr_coef, p_value = pearsonr(adata_pre[gene], adata_true[gene])\n",
    "        result_df[gene] = [-np.log10(p_value), corr_coef, p_value]\n",
    "    result_df = result_df.T\n",
    "    result_df_sorted = result_df.sort_values(by='-log10_PV', ascending=False)\n",
    "\n",
    "    return result_df_sorted\n",
    "\n",
    "results_all = []\n",
    "for fold in folds:\n",
    "    testset = pk_load(fold,'test',dataset=data,flatten=False,adj=True,ori=True,prune=prune)\n",
    "    test_loader = DataLoader(testset, batch_size=1, num_workers=0, shuffle=False)\n",
    "    label=testset.label[testset.names[0]]\n",
    "    model=Hist2ST(\n",
    "        depth1=d1, depth2=d2,depth3=d3,n_genes=genes, \n",
    "        kernel_size=k, patch_size=p,\n",
    "        heads=h, channel=c, dropout=0.2,\n",
    "        zinb=0.25, nb=False,\n",
    "        bake=5, lamb=0.5,\n",
    "    )\n",
    "    model.load_state_dict(torch.load(f'/media/zy/MyPassport/UF/her2st/'+str(fold)+'-HGGEP.ckpt'))\n",
    "    # model.load_state_dict(torch.load(f'./model/Hist2ST_Best_0.3031.ckpt'))\n",
    "    adata_pred, adata_truth = test(model, test_loader)\n",
    "\n",
    "    adata_pred = comp_tsne_km(adata_pred,4)\n",
    "    sc.pp.scale(adata_pred)\n",
    "    sc.pp.scale(adata_truth)\n",
    "    adata_pred.var_names = gene_names\n",
    "    adata_truth.var_names = gene_names\n",
    "    adata_true = pd.DataFrame(data=adata_truth.X, index=adata_truth.obs_names, columns=adata_truth.var_names)\n",
    "    adata_pre = pd.DataFrame(data=adata_pred.X, index=adata_pred.obs_names, columns=adata_pred.var_names)\n",
    "    res = get_PCC(adata_pre, adata_true)\n",
    "    # print(res)\n",
    "    results_all.append(res)\n"
   ]
  },
  {
   "attachments": {},
   "cell_type": "markdown",
   "id": "7a01a740",
   "metadata": {},
   "source": [
    "# Top gene prediction"
   ]
  },
  {
   "cell_type": "code",
   "execution_count": null,
   "id": "851e1572",
   "metadata": {},
   "outputs": [],
   "source": [
    "# Calculate the mean across all DataFrames element-wise\n",
    "mean_df = np.mean([df.values for df in results_all], axis=0)\n",
    "\n",
    "# Create a new DataFrame with the mean values\n",
    "mean_df = pd.DataFrame(mean_df, index=results_all[0].index, columns=results_all[0].columns)\n",
    "\n",
    "# Print the resulting DataFrame\n",
    "print(mean_df[:10])\n",
    "\n",
    "# HGGEP\n",
    "#          -log10_PV       PCC            PV\n",
    "# GNAS     41.461921  0.623105  5.491569e-17\n",
    "# UBA52    30.599432  0.565826  9.797935e-13\n",
    "# MUCL1    27.730870  0.542192  1.220741e-10\n",
    "# HLA-B    25.330913  0.522077  7.795413e-09\n",
    "# HLA-DRA  24.376753  0.513529  1.439333e-08\n",
    "# SRSF5    22.948412  0.500819  3.473500e-08\n",
    "# VIM      21.857428  0.491059  9.101760e-08\n",
    "# CXXC5    21.167107  0.483817  9.344792e-08\n",
    "# SPARC    20.375119  0.475803  9.928255e-08\n",
    "# FASN     19.608907  0.467966  1.183600e-07"
   ]
  },
  {
   "cell_type": "code",
   "execution_count": null,
   "metadata": {},
   "outputs": [],
   "source": [
    "# Hist2ST\n",
    "# Calculate the mean across all DataFrames element-wise\n",
    "mean_df = np.mean([df.values for df in Hist2ST_results_all], axis=0)\n",
    "\n",
    "# Create a new DataFrame with the mean values\n",
    "mean_df = pd.DataFrame(mean_df, index=Hist2ST_results_all[0].index, columns=Hist2ST_results_all[0].columns)\n",
    "print(mean_df[:10])\n",
    "# Print the resulting DataFrame\n",
    "for gene in ['GNAS', 'UBA52', 'MUCL1', 'HLA-B', 'HLA-DRA', 'SRSF5', 'VIM', 'CXXC5', 'SPARC', 'FASN']:\n",
    "    print(mean_df.loc[gene])\n",
    "\n",
    "#           -log10_PV       PCC            PV\n",
    "# IGKC      27.371680  0.528938  1.432967e-10\n",
    "# C3        20.338023  0.468656  6.180550e-08\n",
    "# GNAS      18.061492  0.444435  7.871247e-08\n",
    "# KRT17     17.083069  0.433135  3.483668e-07\n",
    "# IGLC2     16.144405  0.422656  4.038377e-07\n",
    "# IGLC3     15.592970  0.415894  5.110269e-07\n",
    "# TMEM184A  14.760000  0.404774  1.010671e-06\n",
    "# TFF3      14.316007  0.398951  1.253905e-06\n",
    "# SCD       13.835811  0.392418  2.050736e-06\n",
    "# MYL12B    13.382646  0.385515  3.082886e-06"
   ]
  },
  {
   "cell_type": "code",
   "execution_count": null,
   "id": "e9e11306",
   "metadata": {},
   "outputs": [],
   "source": [
    "# HisToGene\n",
    "#          -log10_PV       PCC        PV\n",
    "# GNAS     13.793088  0.323096  0.000024\n",
    "# SCD      11.294036  0.283800  0.000046\n",
    "# IGLC2    10.137152  0.294930  0.000093\n",
    "# C3        9.618945  0.294796  0.000134\n",
    "# FASN      9.240102  0.257429  0.000224\n",
    "# MYL12B    8.911048  0.293260  0.000297\n",
    "# APOC1     8.569591  0.230732  0.000356\n",
    "# TMEM123   8.179363  0.251036  0.000419\n",
    "# SRRT      7.899371  0.247817  0.000480\n",
    "# IGHA1     7.708450  0.266133  0.000530\n"
   ]
  },
  {
   "attachments": {},
   "cell_type": "markdown",
   "id": "651d8d3d",
   "metadata": {},
   "source": [
    "# Figure 5. Spatial domain detection based on predicted gene expressions. "
   ]
  },
  {
   "cell_type": "code",
   "execution_count": null,
   "id": "a14e60ea",
   "metadata": {},
   "outputs": [],
   "source": [
    "import matplotlib.pyplot as plt\n",
    "\n",
    "# decide which model for generating adata_pred\n",
    "\n",
    "img_path = '/home/zy/libo/Hist2ST/data/her2st/data/ST-imgs/B/B1/BT10737_C1_HE.jpg'\n",
    "img_data = plt.imread(img_path)\n",
    "\n",
    "sc.pl.spatial(adata_pred, img=img_data, color='FASN', spot_size=112, color_map='magma')"
   ]
  },
  {
   "cell_type": "code",
   "execution_count": null,
   "id": "e035c599",
   "metadata": {},
   "outputs": [],
   "source": [
    "# Draw picture, show the results of gene prediction.\n",
    "import matplotlib.pyplot as plt\n",
    "img_path = '/home/zy/libo/Hist2ST/data/her2st/data/ST-imgs/B/B1/BT10737_C1_HE.jpg'\n",
    "img_data = plt.imread(img_path)\n",
    "# print(pred.shape, pred[0][:10])\n",
    "sc.pl.spatial(pred, img=img_data, color='kmeans', spot_size=112)\n",
    "sc.pl.spatial(gt, img=img_data, color='kmeans', spot_size=112)\n",
    "\n",
    "sc.pl.spatial(adata_pred, img=None, color='FASN', spot_size=112, color_map='magma')"
   ]
  }
 ],
 "metadata": {
  "kernelspec": {
   "display_name": "gtn",
   "language": "python",
   "name": "python3"
  },
  "language_info": {
   "codemirror_mode": {
    "name": "ipython",
    "version": 3
   },
   "file_extension": ".py",
   "mimetype": "text/x-python",
   "name": "python",
   "nbconvert_exporter": "python",
   "pygments_lexer": "ipython3",
   "version": "3.8.13"
  },
  "pycharm": {
   "stem_cell": {
    "cell_type": "raw",
    "metadata": {
     "collapsed": false
    },
    "source": []
   }
  },
  "vscode": {
   "interpreter": {
    "hash": "f5bc5193494f8e31bb35f143e2e9d2a9395cc76e28c0276d02df8e52647f48fb"
   }
  }
 },
 "nbformat": 4,
 "nbformat_minor": 5
}
