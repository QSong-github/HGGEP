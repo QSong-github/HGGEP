{
 "cells": [
  {
   "cell_type": "code",
   "execution_count": 1,
   "id": "053309c2-cb6d-4623-83b7-7b0d947998e6",
   "metadata": {},
   "outputs": [
    {
     "name": "stderr",
     "output_type": "stream",
     "text": [
      "/home/zy/anaconda3/envs/gtn/lib/python3.8/site-packages/tqdm/auto.py:22: TqdmWarning: IProgress not found. Please update jupyter and ipywidgets. See https://ipywidgets.readthedocs.io/en/stable/user_install.html\n",
      "  from .autonotebook import tqdm as notebook_tqdm\n",
      "/home/zy/anaconda3/envs/gtn/lib/python3.8/site-packages/scipy/__init__.py:146: UserWarning: A NumPy version >=1.16.5 and <1.23.0 is required for this version of SciPy (detected version 1.24.4\n",
      "  warnings.warn(f\"A NumPy version >={np_minversion} and <{np_maxversion}\"\n"
     ]
    },
    {
     "name": "stdout",
     "output_type": "stream",
     "text": [
      "[easydl] tensorflow not available!\n"
     ]
    }
   ],
   "source": [
    "import torch\n",
    "import numpy as np\n",
    "import pytorch_lightning as pl\n",
    "import torchvision.transforms as tf\n",
    "from tqdm import tqdm\n",
    "from predict import *\n",
    "# from HIST2ST_Baseline import *\n",
    "from HGGEP_HGNN import *\n",
    "from dataset import ViT_HER2ST, ViT_SKIN\n",
    "from scipy.stats import pearsonr,spearmanr\n",
    "from torch.utils.data import DataLoader\n",
    "from pytorch_lightning.loggers import TensorBoardLogger\n",
    "from copy import deepcopy as dcp\n",
    "from collections import defaultdict as dfd\n",
    "from sklearn.metrics import adjusted_rand_score as ari_score\n",
    "from sklearn.metrics.cluster import normalized_mutual_info_score as nmi_score"
   ]
  },
  {
   "cell_type": "markdown",
   "id": "b132bfb4-bd29-44fa-bbca-3790b0848fd4",
   "metadata": {},
   "source": [
    "# Data Loading"
   ]
  },
  {
   "cell_type": "code",
   "execution_count": 2,
   "id": "6281d8f2-e5f7-4c26-88bf-5256197b1418",
   "metadata": {
    "tags": []
   },
   "outputs": [],
   "source": [
    "name=[*[f'A{i}' for i in range(2,7)],*[f'B{i}' for i in range(1,7)],\n",
    "      *[f'C{i}' for i in range(1,7)],*[f'D{i}' for i in range(1,7)],\n",
    "      *[f'E{i}' for i in range(1,4)],*[f'F{i}' for i in range(1,4)],*[f'G{i}' for i in range(1,4)]]\n",
    "patients = ['P2', 'P5', 'P9', 'P10']\n",
    "reps = ['rep1', 'rep2', 'rep3']\n",
    "skinname = []\n",
    "for i in patients:\n",
    "    for j in reps:\n",
    "        skinname.append(i+'_ST_'+j)\n",
    "device='cuda'\n",
    "tag='5-7-2-8-4-16-32'\n",
    "k,p,d1,d2,d3,h,c=map(lambda x:int(x),tag.split('-'))\n",
    "dropout=0.2\n",
    "random.seed(12000)\n",
    "np.random.seed(12000)\n",
    "torch.manual_seed(12000)\n",
    "torch.cuda.manual_seed(12000)\n",
    "torch.cuda.manual_seed_all(12000)  \n",
    "torch.backends.cudnn.benchmark = False\n",
    "torch.backends.cudnn.deterministic = True"
   ]
  },
  {
   "cell_type": "markdown",
   "id": "e8d22dca",
   "metadata": {
    "collapsed": false
   },
   "source": [
    "\n",
    "# Hist2ST Prediction\n",
    "\n",
    "### To run the trained model, please select the trained model and replace the value of the variable fold with the number in the name of the selected trained model."
   ]
  },
  {
   "attachments": {},
   "cell_type": "markdown",
   "id": "4975e465",
   "metadata": {},
   "source": [
    "Test one!"
   ]
  },
  {
   "cell_type": "code",
   "execution_count": 4,
   "id": "76cfcfb9-3169-46da-9288-2e2be7942d84",
   "metadata": {},
   "outputs": [
    {
     "name": "stdout",
     "output_type": "stream",
     "text": [
      "te_names: ['C2']\n",
      "Loading imgs...\n",
      "Loading metadata...\n"
     ]
    }
   ],
   "source": [
    "fold=12\n",
    "data='her2st'\n",
    "prune='Grid' if data=='her2st' else 'NA'\n",
    "genes=171 if data=='cscc' else 785\n",
    "\n",
    "testset = pk_load(fold,'test',dataset=data,flatten=False,adj=True,ori=True,prune=prune)\n",
    "test_loader = DataLoader(testset, batch_size=1, num_workers=0, shuffle=False)\n",
    "label=testset.label[testset.names[0]]\n",
    "genes=785\n",
    "model=HGGEP(\n",
    "    depth1=d1, depth2=d2,depth3=d3,n_genes=genes, \n",
    "    kernel_size=k, patch_size=p,\n",
    "    heads=h, channel=c, dropout=0.2,\n",
    "    zinb=0.25, nb=False,\n",
    "    bake=5, lamb=0.5, \n",
    ")"
   ]
  },
  {
   "cell_type": "code",
   "execution_count": null,
   "id": "28741089",
   "metadata": {},
   "outputs": [],
   "source": [
    "# Test all\n",
    "\n",
    "folds=[]\n",
    "for i in range(32):\n",
    "    folds.append(i)\n",
    "print(folds)\n",
    "data='her2st'\n",
    "prune='Grid' if data=='her2st' else 'NA'\n",
    "genes=171 if data=='cscc' else 785\n",
    "\n",
    "R_HGGEP = []\n",
    "\n",
    "for fold in folds:\n",
    "    testset = pk_load(fold,'test',dataset=data,flatten=False,adj=True,ori=True,prune=prune)\n",
    "    test_loader = DataLoader(testset, batch_size=1, num_workers=0, shuffle=False)\n",
    "    label=testset.label[testset.names[0]]\n",
    "    # genes=785\n",
    "    model=HGGEP(\n",
    "        depth1=d1, depth2=d2,depth3=d3,n_genes=genes, \n",
    "        kernel_size=k, patch_size=p,\n",
    "        heads=h, channel=c, dropout=0.2,\n",
    "        zinb=0.25, nb=False,\n",
    "        bake=0, lamb=0.5,\n",
    "    )\n",
    "    model.load_state_dict(torch.load(f'./model/her2st/'+str(fold)+'-HGGEP.ckpt'))\n",
    "    pred, gt = test(model, test_loader,'cuda')\n",
    "    R=get_R(pred,gt)[0]\n",
    "    R_HGGEP.append(R)\n",
    "    print('Pearson Correlation Median:',np.nanmedian(R))"
   ]
  },
  {
   "cell_type": "code",
   "execution_count": 21,
   "id": "8fd5c203",
   "metadata": {},
   "outputs": [],
   "source": [
    "# add mean and median\n",
    "\n",
    "import numpy as np\n",
    "\n",
    "# print(len(R_HGGEP))\n",
    "# print(len(R_Hist2ST))\n",
    "\n",
    "# # add mean and median\n",
    "# mean_HGGEP = np.mean(R_STNet, axis=0)\n",
    "# # mean_Hist2ST = np.mean(R_Hist2ST, axis=0)\n",
    "\n",
    "# median_HGGEP = np.median(R_STNet, axis=0)\n",
    "# # median_Hist2ST = np.median(R_Hist2ST, axis=0)\n",
    "\n",
    "# # # 添加中位数到原始数组的末尾\n",
    "# R_HGGEP_with_mean_median = np.vstack([R_STNet, mean_HGGEP, median_HGGEP])\n",
    "# # R_Hist2ST_with_mean_median = np.vstack([R_Hist2ST, mean_Hist2ST, median_Hist2ST])\n",
    "\n",
    "\n",
    "# # print(R_HGGEP_with_mean_median.shape)  # 应该是 (34, 785)\n",
    "# # print(R_Hist2ST_with_mean_median.shape)  # 应该是 (34, 785)\n",
    "# # # 打印结果\n",
    "# print(R_HGGEP_with_mean_median.shape, R_HGGEP_with_mean_median[-1][:10]) \n",
    "\n",
    "\n",
    "# # # 假设 data 是你的二维数组 [32, 785]\n",
    "# np.save('./Output/STNet_her2.npy', R_HGGEP_with_mean_median)\n",
    "# np.save('Hist2ST_output.npy', R_Hist2ST_with_mean_median)\n",
    "\n",
    "R_HGGEP_with_mean_median = np.load('./Output/HGGEP_her2.npy')\n",
    "R_Hist2ST_with_mean_median = np.load('./Output/Hist2ST_her2.npy')\n",
    "R_HisToGene_with_mean_median = np.load('./Output/HisToGene_her2.npy')\n",
    "R_STNet_with_mean_median = np.load('./Output/STNet_her2.npy')\n"
   ]
  },
  {
   "cell_type": "code",
   "execution_count": 8,
   "id": "4edf491c",
   "metadata": {},
   "outputs": [
    {
     "name": "stdout",
     "output_type": "stream",
     "text": [
      "(34, 785)\n",
      "(34, 785)\n",
      "(34, 785)\n",
      "(34, 785)\n",
      "Mean HGGEP: [0.19456845]\n",
      "Mean Hist2ST: [0.15636345]\n",
      "Median HGGEP: 0.11109329471896254\n",
      "Median Hist2ST: 0.0950236368053993\n"
     ]
    }
   ],
   "source": [
    "# 取最后mean和median的均值和中间值\n",
    "\n",
    "print(R_HGGEP_with_mean_median.shape)  # 应该是 (34, 785)\n",
    "print(R_Hist2ST_with_mean_median.shape)  # 应该是 (34, 785)\n",
    "print(R_HisToGene_with_mean_median.shape)  # 应该是 (34, 785)\n",
    "print(R_HisToGene_with_mean_median.shape)  # 应该是 (34, 785)\n",
    "\n",
    "# Extract the last subarrays\n",
    "last_subarray_HGGEP = R_HGGEP_with_mean_median[-2, :]\n",
    "last_subarray_Hist2ST = R_Hist2ST_with_mean_median[-2, :]\n",
    "# Convert to Pandas DataFrame\n",
    "df_last_HGGEP = pd.DataFrame(last_subarray_HGGEP)\n",
    "df_last_Hist2ST = pd.DataFrame(last_subarray_Hist2ST)\n",
    "\n",
    "# Calculate mean and median using Pandas DataFrame methods\n",
    "mean_HGGEP = df_last_HGGEP.mean().values\n",
    "mean_Hist2ST = df_last_Hist2ST.mean().values\n",
    "\n",
    "median_HGGEP = np.median(R_HGGEP_with_mean_median[:, -1])\n",
    "median_Hist2ST = np.median(R_Hist2ST_with_mean_median[:, -1])\n",
    "\n",
    "\n",
    "# Print the results\n",
    "print(\"Mean HGGEP:\", mean_HGGEP)\n",
    "print(\"Mean Hist2ST:\", mean_Hist2ST)\n",
    "print(\"Median HGGEP:\", median_HGGEP)\n",
    "print(\"Median Hist2ST:\", median_Hist2ST)"
   ]
  },
  {
   "attachments": {},
   "cell_type": "markdown",
   "id": "70a0f858",
   "metadata": {},
   "source": [
    "# Figure 2, comprasion of different models"
   ]
  },
  {
   "cell_type": "code",
   "execution_count": 22,
   "id": "0aae38db",
   "metadata": {},
   "outputs": [
    {
     "data": {
      "image/png": "[encoded data removed]",
      "text/plain": [
       "<Figure size 1728x432 with 1 Axes>"
      ]
     },
     "metadata": {},
     "output_type": "display_data"
    }
   ],
   "source": [
    "import warnings\n",
    "warnings.filterwarnings(\"ignore\")\n",
    "import seaborn as sns\n",
    "import matplotlib.pyplot as plt\n",
    "import numpy as np\n",
    "import pandas as pd\n",
    "\n",
    "R_HGGEP_with_mean_median = np.load('./Output/HGGEP_her2.npy')\n",
    "R_Hist2ST_with_mean_median = np.load('./Output/Hist2ST_her2.npy')\n",
    "R_HisToGene_with_mean_median = np.load('./Output/HisToGene_her2.npy')\n",
    "R_STNet_with_mean_median = np.load('./Output/STNet_her2.npy')\n",
    "\n",
    "\n",
    "x_label = ['A2', 'A3', 'A4', 'A5', 'A6', 'B1', 'B2', 'B3', 'B4', 'B5', 'B6', 'C1', 'C2', 'C3', \\\n",
    "           'C4', 'C5', 'C6', 'D1', 'D2', 'D3', 'D4', 'D5', 'D6', 'E1', 'E2', 'E3', 'F1', 'F2', 'F3', 'G1', 'G2', 'G3', 'Mean', 'Median']\n",
    "\n",
    "df_combined = pd.DataFrame()\n",
    "# 重复操作32次\n",
    "for i in range(34):\n",
    "    # 创建 DataFrame，添加分类变量和列名\n",
    "    df_class_i = pd.DataFrame(np.transpose(np.array([R_HGGEP_with_mean_median[i], R_Hist2ST_with_mean_median[i],\\\n",
    "                                                      R_HisToGene_with_mean_median[i], R_STNet_with_mean_median[i]])),\\\n",
    "                                                      columns=['HGGEP', 'Hist2ST', 'HisToGene', 'STNet'])\n",
    "    # df_class_i = pd.DataFrame(data_class1, columns=['HGGEP', 'Hist2ST', 'HisToGene'])\n",
    "    df_class_i['Category'] = x_label[i]  # 使用 f-string 添加不同的后缀数字\n",
    "\n",
    "    # 将当前 DataFrame 追加到结果 DataFrame\n",
    "    df_combined = df_combined._append(df_class_i, ignore_index=True)\n",
    "\n",
    "# 将列名融入数据，以便使用`hue`\n",
    "df_combined_melted = pd.melt(df_combined, id_vars=['Category'], var_name='Column')\n",
    "\n",
    "# 设置图形大小\n",
    "plt.figure(figsize=(24, 6))  # width and high\n",
    "\n",
    "# 创建箱线图\n",
    "# sns.boxplot(x='Category', y='value', data=df_combined_melted, hue='Column', showfliers=True, width=0.8, palette='Set2')\n",
    "boxplot = sns.boxplot(x='Category', y='value', data=df_combined_melted, hue='Column', showfliers=True, width=0.8, palette='Set1')\n",
    "\n",
    "# 设置 y 轴上下限\n",
    "plt.ylim(-0.4, 0.8)\n",
    "\n",
    "# 设置图形背景为白色\n",
    "plt.gcf().set_facecolor('white')\n",
    "\n",
    "# 显示图例\n",
    "plt.legend(title='')\n",
    "\n",
    "# 添加标题和标签\n",
    "# plt.title('Boxplots of Columns by Category')\n",
    "plt.xlabel('')\n",
    "plt.ylabel('PCC')\n",
    "\n",
    "# 显示图形\n",
    "# plt.show()\n",
    "plt.savefig('./figures/2_HER2+.pdf')\n",
    "# plt.savefig('./figures/HER2+.png', dpi=600)"
   ]
  },
  {
   "attachments": {},
   "cell_type": "markdown",
   "id": "16ad4213",
   "metadata": {},
   "source": [
    "# Test her2st all!"
   ]
  },
  {
   "cell_type": "code",
   "execution_count": 12,
   "id": "9c635e84",
   "metadata": {},
   "outputs": [
    {
     "name": "stdout",
     "output_type": "stream",
     "text": [
      "te_names: ['A2']\n",
      "Loading imgs...\n",
      "Loading metadata...\n"
     ]
    },
    {
     "name": "stderr",
     "output_type": "stream",
     "text": [
      "100%|██████████| 1/1 [00:02<00:00,  2.28s/it]"
     ]
    },
    {
     "name": "stdout",
     "output_type": "stream",
     "text": [
      "h: torch.Size([325, 1024])\n",
      "x: torch.Size([325, 785])\n"
     ]
    },
    {
     "name": "stderr",
     "output_type": "stream",
     "text": [
      "\n"
     ]
    },
    {
     "ename": "KeyboardInterrupt",
     "evalue": "",
     "output_type": "error",
     "traceback": [
      "\u001b[0;31m---------------------------------------------------------------------------\u001b[0m",
      "\u001b[0;31mKeyboardInterrupt\u001b[0m                         Traceback (most recent call last)",
      "Cell \u001b[0;32mIn[12], line 54\u001b[0m\n\u001b[1;32m     51\u001b[0m \u001b[39m# model.load_state_dict(torch.load(f'./model/Hist2ST_Best_0.3031.ckpt'))\u001b[39;00m\n\u001b[1;32m     52\u001b[0m adata_pred, adata_truth \u001b[39m=\u001b[39m test(model, test_loader)\n\u001b[0;32m---> 54\u001b[0m adata_pred \u001b[39m=\u001b[39m comp_tsne_km(adata_pred,\u001b[39m4\u001b[39;49m)\n\u001b[1;32m     55\u001b[0m sc\u001b[39m.\u001b[39mpp\u001b[39m.\u001b[39mscale(adata_pred)\n\u001b[1;32m     56\u001b[0m sc\u001b[39m.\u001b[39mpp\u001b[39m.\u001b[39mscale(adata_truth)\n",
      "Cell \u001b[0;32mIn[12], line 13\u001b[0m, in \u001b[0;36mcomp_tsne_km\u001b[0;34m(adata, k)\u001b[0m\n\u001b[1;32m     11\u001b[0m \u001b[39mdef\u001b[39;00m \u001b[39mcomp_tsne_km\u001b[39m(adata,k\u001b[39m=\u001b[39m\u001b[39m10\u001b[39m):\n\u001b[1;32m     12\u001b[0m     sc\u001b[39m.\u001b[39mpp\u001b[39m.\u001b[39mpca(adata)\n\u001b[0;32m---> 13\u001b[0m     sc\u001b[39m.\u001b[39;49mtl\u001b[39m.\u001b[39;49mtsne(adata)\n\u001b[1;32m     14\u001b[0m     kmeans \u001b[39m=\u001b[39m KMeans(n_clusters\u001b[39m=\u001b[39mk, init\u001b[39m=\u001b[39m\u001b[39m\"\u001b[39m\u001b[39mk-means++\u001b[39m\u001b[39m\"\u001b[39m, random_state\u001b[39m=\u001b[39m\u001b[39m0\u001b[39m)\u001b[39m.\u001b[39mfit(adata\u001b[39m.\u001b[39mobsm[\u001b[39m'\u001b[39m\u001b[39mX_pca\u001b[39m\u001b[39m'\u001b[39m])\n\u001b[1;32m     15\u001b[0m     adata\u001b[39m.\u001b[39mobs[\u001b[39m'\u001b[39m\u001b[39mkmeans\u001b[39m\u001b[39m'\u001b[39m] \u001b[39m=\u001b[39m kmeans\u001b[39m.\u001b[39mlabels_\u001b[39m.\u001b[39mastype(\u001b[39mstr\u001b[39m)\n",
      "File \u001b[0;32m~/anaconda3/envs/gtn/lib/python3.8/site-packages/scanpy/tools/_tsne.py:144\u001b[0m, in \u001b[0;36mtsne\u001b[0;34m(adata, n_pcs, use_rep, perplexity, early_exaggeration, learning_rate, random_state, use_fast_tsne, n_jobs, copy, metric)\u001b[0m\n\u001b[1;32m    142\u001b[0m     tsne \u001b[39m=\u001b[39m TSNE(\u001b[39m*\u001b[39m\u001b[39m*\u001b[39mparams_sklearn)\n\u001b[1;32m    143\u001b[0m     logg\u001b[39m.\u001b[39minfo(\u001b[39m'\u001b[39m\u001b[39m    using sklearn.manifold.TSNE\u001b[39m\u001b[39m'\u001b[39m)\n\u001b[0;32m--> 144\u001b[0m     X_tsne \u001b[39m=\u001b[39m tsne\u001b[39m.\u001b[39;49mfit_transform(X)\n\u001b[1;32m    146\u001b[0m \u001b[39m# update AnnData instance\u001b[39;00m\n\u001b[1;32m    147\u001b[0m adata\u001b[39m.\u001b[39mobsm[\u001b[39m'\u001b[39m\u001b[39mX_tsne\u001b[39m\u001b[39m'\u001b[39m] \u001b[39m=\u001b[39m X_tsne  \u001b[39m# annotate samples with tSNE coordinates\u001b[39;00m\n",
      "File \u001b[0;32m~/anaconda3/envs/gtn/lib/python3.8/site-packages/sklearn/manifold/_t_sne.py:1108\u001b[0m, in \u001b[0;36mTSNE.fit_transform\u001b[0;34m(self, X, y)\u001b[0m\n\u001b[1;32m   1088\u001b[0m \u001b[39mdef\u001b[39;00m \u001b[39mfit_transform\u001b[39m(\u001b[39mself\u001b[39m, X, y\u001b[39m=\u001b[39m\u001b[39mNone\u001b[39;00m):\n\u001b[1;32m   1089\u001b[0m \u001b[39m    \u001b[39m\u001b[39m\"\"\"Fit X into an embedded space and return that transformed output.\u001b[39;00m\n\u001b[1;32m   1090\u001b[0m \n\u001b[1;32m   1091\u001b[0m \u001b[39m    Parameters\u001b[39;00m\n\u001b[0;32m   (...)\u001b[0m\n\u001b[1;32m   1106\u001b[0m \u001b[39m        Embedding of the training data in low-dimensional space.\u001b[39;00m\n\u001b[1;32m   1107\u001b[0m \u001b[39m    \"\"\"\u001b[39;00m\n\u001b[0;32m-> 1108\u001b[0m     embedding \u001b[39m=\u001b[39m \u001b[39mself\u001b[39;49m\u001b[39m.\u001b[39;49m_fit(X)\n\u001b[1;32m   1109\u001b[0m     \u001b[39mself\u001b[39m\u001b[39m.\u001b[39membedding_ \u001b[39m=\u001b[39m embedding\n\u001b[1;32m   1110\u001b[0m     \u001b[39mreturn\u001b[39;00m \u001b[39mself\u001b[39m\u001b[39m.\u001b[39membedding_\n",
      "File \u001b[0;32m~/anaconda3/envs/gtn/lib/python3.8/site-packages/sklearn/manifold/_t_sne.py:1004\u001b[0m, in \u001b[0;36mTSNE._fit\u001b[0;34m(self, X, skip_num_points)\u001b[0m\n\u001b[1;32m    998\u001b[0m \u001b[39m# Degrees of freedom of the Student's t-distribution. The suggestion\u001b[39;00m\n\u001b[1;32m    999\u001b[0m \u001b[39m# degrees_of_freedom = n_components - 1 comes from\u001b[39;00m\n\u001b[1;32m   1000\u001b[0m \u001b[39m# \"Learning a Parametric Embedding by Preserving Local Structure\"\u001b[39;00m\n\u001b[1;32m   1001\u001b[0m \u001b[39m# Laurens van der Maaten, 2009.\u001b[39;00m\n\u001b[1;32m   1002\u001b[0m degrees_of_freedom \u001b[39m=\u001b[39m \u001b[39mmax\u001b[39m(\u001b[39mself\u001b[39m\u001b[39m.\u001b[39mn_components \u001b[39m-\u001b[39m \u001b[39m1\u001b[39m, \u001b[39m1\u001b[39m)\n\u001b[0;32m-> 1004\u001b[0m \u001b[39mreturn\u001b[39;00m \u001b[39mself\u001b[39;49m\u001b[39m.\u001b[39;49m_tsne(\n\u001b[1;32m   1005\u001b[0m     P,\n\u001b[1;32m   1006\u001b[0m     degrees_of_freedom,\n\u001b[1;32m   1007\u001b[0m     n_samples,\n\u001b[1;32m   1008\u001b[0m     X_embedded\u001b[39m=\u001b[39;49mX_embedded,\n\u001b[1;32m   1009\u001b[0m     neighbors\u001b[39m=\u001b[39;49mneighbors_nn,\n\u001b[1;32m   1010\u001b[0m     skip_num_points\u001b[39m=\u001b[39;49mskip_num_points,\n\u001b[1;32m   1011\u001b[0m )\n",
      "File \u001b[0;32m~/anaconda3/envs/gtn/lib/python3.8/site-packages/sklearn/manifold/_t_sne.py:1056\u001b[0m, in \u001b[0;36mTSNE._tsne\u001b[0;34m(self, P, degrees_of_freedom, n_samples, X_embedded, neighbors, skip_num_points)\u001b[0m\n\u001b[1;32m   1053\u001b[0m \u001b[39m# Learning schedule (part 1): do 250 iteration with lower momentum but\u001b[39;00m\n\u001b[1;32m   1054\u001b[0m \u001b[39m# higher learning rate controlled via the early exaggeration parameter\u001b[39;00m\n\u001b[1;32m   1055\u001b[0m P \u001b[39m*\u001b[39m\u001b[39m=\u001b[39m \u001b[39mself\u001b[39m\u001b[39m.\u001b[39mearly_exaggeration\n\u001b[0;32m-> 1056\u001b[0m params, kl_divergence, it \u001b[39m=\u001b[39m _gradient_descent(obj_func, params, \u001b[39m*\u001b[39;49m\u001b[39m*\u001b[39;49mopt_args)\n\u001b[1;32m   1057\u001b[0m \u001b[39mif\u001b[39;00m \u001b[39mself\u001b[39m\u001b[39m.\u001b[39mverbose:\n\u001b[1;32m   1058\u001b[0m     \u001b[39mprint\u001b[39m(\n\u001b[1;32m   1059\u001b[0m         \u001b[39m\"\u001b[39m\u001b[39m[t-SNE] KL divergence after \u001b[39m\u001b[39m%d\u001b[39;00m\u001b[39m iterations with early exaggeration: \u001b[39m\u001b[39m%f\u001b[39;00m\u001b[39m\"\u001b[39m\n\u001b[1;32m   1060\u001b[0m         \u001b[39m%\u001b[39m (it \u001b[39m+\u001b[39m \u001b[39m1\u001b[39m, kl_divergence)\n\u001b[1;32m   1061\u001b[0m     )\n",
      "File \u001b[0;32m~/anaconda3/envs/gtn/lib/python3.8/site-packages/sklearn/manifold/_t_sne.py:398\u001b[0m, in \u001b[0;36m_gradient_descent\u001b[0;34m(objective, p0, it, n_iter, n_iter_check, n_iter_without_progress, momentum, learning_rate, min_gain, min_grad_norm, verbose, args, kwargs)\u001b[0m\n\u001b[1;32m    395\u001b[0m \u001b[39m# only compute the error when needed\u001b[39;00m\n\u001b[1;32m    396\u001b[0m kwargs[\u001b[39m\"\u001b[39m\u001b[39mcompute_error\u001b[39m\u001b[39m\"\u001b[39m] \u001b[39m=\u001b[39m check_convergence \u001b[39mor\u001b[39;00m i \u001b[39m==\u001b[39m n_iter \u001b[39m-\u001b[39m \u001b[39m1\u001b[39m\n\u001b[0;32m--> 398\u001b[0m error, grad \u001b[39m=\u001b[39m objective(p, \u001b[39m*\u001b[39;49margs, \u001b[39m*\u001b[39;49m\u001b[39m*\u001b[39;49mkwargs)\n\u001b[1;32m    399\u001b[0m grad_norm \u001b[39m=\u001b[39m linalg\u001b[39m.\u001b[39mnorm(grad)\n\u001b[1;32m    401\u001b[0m inc \u001b[39m=\u001b[39m update \u001b[39m*\u001b[39m grad \u001b[39m<\u001b[39m \u001b[39m0.0\u001b[39m\n",
      "File \u001b[0;32m~/anaconda3/envs/gtn/lib/python3.8/site-packages/sklearn/manifold/_t_sne.py:279\u001b[0m, in \u001b[0;36m_kl_divergence_bh\u001b[0;34m(params, P, degrees_of_freedom, n_samples, n_components, angle, skip_num_points, verbose, compute_error, num_threads)\u001b[0m\n\u001b[1;32m    276\u001b[0m indptr \u001b[39m=\u001b[39m P\u001b[39m.\u001b[39mindptr\u001b[39m.\u001b[39mastype(np\u001b[39m.\u001b[39mint64, copy\u001b[39m=\u001b[39m\u001b[39mFalse\u001b[39;00m)\n\u001b[1;32m    278\u001b[0m grad \u001b[39m=\u001b[39m np\u001b[39m.\u001b[39mzeros(X_embedded\u001b[39m.\u001b[39mshape, dtype\u001b[39m=\u001b[39mnp\u001b[39m.\u001b[39mfloat32)\n\u001b[0;32m--> 279\u001b[0m error \u001b[39m=\u001b[39m _barnes_hut_tsne\u001b[39m.\u001b[39;49mgradient(\n\u001b[1;32m    280\u001b[0m     val_P,\n\u001b[1;32m    281\u001b[0m     X_embedded,\n\u001b[1;32m    282\u001b[0m     neighbors,\n\u001b[1;32m    283\u001b[0m     indptr,\n\u001b[1;32m    284\u001b[0m     grad,\n\u001b[1;32m    285\u001b[0m     angle,\n\u001b[1;32m    286\u001b[0m     n_components,\n\u001b[1;32m    287\u001b[0m     verbose,\n\u001b[1;32m    288\u001b[0m     dof\u001b[39m=\u001b[39;49mdegrees_of_freedom,\n\u001b[1;32m    289\u001b[0m     compute_error\u001b[39m=\u001b[39;49mcompute_error,\n\u001b[1;32m    290\u001b[0m     num_threads\u001b[39m=\u001b[39;49mnum_threads,\n\u001b[1;32m    291\u001b[0m )\n\u001b[1;32m    292\u001b[0m c \u001b[39m=\u001b[39m \u001b[39m2.0\u001b[39m \u001b[39m*\u001b[39m (degrees_of_freedom \u001b[39m+\u001b[39m \u001b[39m1.0\u001b[39m) \u001b[39m/\u001b[39m degrees_of_freedom\n\u001b[1;32m    293\u001b[0m grad \u001b[39m=\u001b[39m grad\u001b[39m.\u001b[39mravel()\n",
      "\u001b[0;31mKeyboardInterrupt\u001b[0m: "
     ]
    }
   ],
   "source": [
    "folds=[]\n",
    "from HGGEP_HGNN import *\n",
    "for i in range(32):\n",
    "    folds.append(i)\n",
    "# print(folds)\n",
    "data='her2st'\n",
    "prune='Grid' if data=='her2st' else 'NA'\n",
    "genes=171 if data=='cscc' else 785\n",
    "gene_names = list(np.load('data/her_hvg_cut_1000.npy',allow_pickle=True))\n",
    "\n",
    "def comp_tsne_km(adata,k=10):\n",
    "    sc.pp.pca(adata)\n",
    "    sc.tl.tsne(adata)\n",
    "    kmeans = KMeans(n_clusters=k, init=\"k-means++\", random_state=0).fit(adata.obsm['X_pca'])\n",
    "    adata.obs['kmeans'] = kmeans.labels_.astype(str)\n",
    "    return adata\n",
    "\n",
    "def get_PCC(adata_pre, adata_true):\n",
    "    # 提取 var_names 列的基因名称\n",
    "    gene_names = adata_pre.columns\n",
    "\n",
    "    # 初始化一个空的 DataFrame 用于存储结果\n",
    "    result_df = pd.DataFrame(index=['-log10_PV', 'PCC', 'PV',], columns=gene_names)\n",
    "\n",
    "    # 计算每一列的皮尔逊相关系数和 p-value\n",
    "    for gene in gene_names:\n",
    "        corr_coef, p_value = pearsonr(adata_pre[gene], adata_true[gene])\n",
    "        result_df[gene] = [-np.log10(p_value), corr_coef, p_value]\n",
    "\n",
    "    # 转置 DataFrame，使得基因名称成为索引\n",
    "    result_df = result_df.T\n",
    "\n",
    "    # 根据 PCC 指数排序\n",
    "    result_df_sorted = result_df.sort_values(by='-log10_PV', ascending=False)\n",
    "\n",
    "    return result_df_sorted\n",
    "\n",
    "results_all = []\n",
    "for fold in folds:\n",
    "    testset = pk_load(fold,'test',dataset=data,flatten=False,adj=True,ori=True,prune=prune)\n",
    "    test_loader = DataLoader(testset, batch_size=1, num_workers=0, shuffle=False)\n",
    "    label=testset.label[testset.names[0]]\n",
    "    model=Hist2ST(\n",
    "        depth1=d1, depth2=d2,depth3=d3,n_genes=genes, \n",
    "        kernel_size=k, patch_size=p,\n",
    "        heads=h, channel=c, dropout=0.2,\n",
    "        zinb=0.25, nb=False,\n",
    "        bake=5, lamb=0.5,\n",
    "    )\n",
    "    model.load_state_dict(torch.load(f'/media/zy/MyPassport/UF/her2st/'+str(fold)+'-HGGEP.ckpt'))\n",
    "    # model.load_state_dict(torch.load(f'./model/Hist2ST_Best_0.3031.ckpt'))\n",
    "    adata_pred, adata_truth = test(model, test_loader)\n",
    "\n",
    "    adata_pred = comp_tsne_km(adata_pred,4)\n",
    "    sc.pp.scale(adata_pred)\n",
    "    sc.pp.scale(adata_truth)\n",
    "    adata_pred.var_names = gene_names\n",
    "    adata_truth.var_names = gene_names\n",
    "    adata_true = pd.DataFrame(data=adata_truth.X, index=adata_truth.obs_names, columns=adata_truth.var_names)\n",
    "    adata_pre = pd.DataFrame(data=adata_pred.X, index=adata_pred.obs_names, columns=adata_pred.var_names)\n",
    "    res = get_PCC(adata_pre, adata_true)\n",
    "    # print(res)\n",
    "    results_all.append(res)\n"
   ]
  },
  {
   "cell_type": "code",
   "execution_count": null,
   "id": "95f9d41b",
   "metadata": {},
   "outputs": [],
   "source": [
    "folds=[]\n",
    "\n",
    "# from HIST2ST import *\n",
    "from HIST2ST_Baseline import *\n",
    "# from HIST2ST_HGNN import *\n",
    "for i in range(32):\n",
    "    folds.append(i)\n",
    "# print(folds)\n",
    "data='her2st'\n",
    "prune='Grid' if data=='her2st' else 'NA'\n",
    "genes=171 if data=='cscc' else 785\n",
    "gene_names = list(np.load('data/her_hvg_cut_1000.npy',allow_pickle=True))\n",
    "\n",
    "def comp_tsne_km(adata,k=10):\n",
    "    sc.pp.pca(adata)\n",
    "    sc.tl.tsne(adata)\n",
    "    kmeans = KMeans(n_clusters=k, init=\"k-means++\", random_state=0).fit(adata.obsm['X_pca'])\n",
    "    adata.obs['kmeans'] = kmeans.labels_.astype(str)\n",
    "    return adata\n",
    "\n",
    "def get_PCC(adata_pre, adata_true):\n",
    "    # 提取 var_names 列的基因名称\n",
    "    gene_names = adata_pre.columns\n",
    "\n",
    "    # 初始化一个空的 DataFrame 用于存储结果\n",
    "    result_df = pd.DataFrame(index=['-log10_PV', 'PCC', 'PV',], columns=gene_names)\n",
    "\n",
    "    # 计算每一列的皮尔逊相关系数和 p-value\n",
    "    for gene in gene_names:\n",
    "        corr_coef, p_value = pearsonr(adata_pre[gene], adata_true[gene])\n",
    "        result_df[gene] = [-np.log10(p_value), corr_coef, p_value]\n",
    "\n",
    "    # 转置 DataFrame，使得基因名称成为索引\n",
    "    result_df = result_df.T\n",
    "\n",
    "    # 根据 PCC 指数排序\n",
    "    result_df_sorted = result_df.sort_values(by='-log10_PV', ascending=False)\n",
    "\n",
    "    return result_df_sorted\n",
    "\n",
    "Hist2ST_results_all = []\n",
    "for fold in folds:\n",
    "    testset = pk_load(fold,'test',dataset=data,flatten=False,adj=True,ori=True,prune=prune)\n",
    "    test_loader = DataLoader(testset, batch_size=1, num_workers=0, shuffle=False)\n",
    "    label=testset.label[testset.names[0]]\n",
    "    model=Hist2ST(\n",
    "        depth1=d1, depth2=d2,depth3=d3,n_genes=genes, \n",
    "        kernel_size=k, patch_size=p,\n",
    "        heads=h, channel=c, dropout=0.2,\n",
    "        zinb=0.25, nb=False,\n",
    "        bake=5, lamb=0.5,\n",
    "    )\n",
    "    # model.load_state_dict(torch.load(f'./model/her2st/'+str(fold)+'-HGGEP.ckpt'))\n",
    "    model.load_state_dict(torch.load(f'./model/her2st_official/'+str(fold)+'-Hist2ST.ckpt'))\n",
    "    # model.load_state_dict(torch.load(f'./model/Hist2ST_Best_0.3031.ckpt'))\n",
    "    adata_pred, adata_truth = test(model, test_loader)\n",
    "\n",
    "    adata_pred = comp_tsne_km(adata_pred,4)\n",
    "    sc.pp.scale(adata_pred)\n",
    "    sc.pp.scale(adata_truth)\n",
    "    adata_pred.var_names = gene_names\n",
    "    adata_truth.var_names = gene_names\n",
    "    adata_true = pd.DataFrame(data=adata_truth.X, index=adata_truth.obs_names, columns=adata_truth.var_names)\n",
    "    adata_pre = pd.DataFrame(data=adata_pred.X, index=adata_pred.obs_names, columns=adata_pred.var_names)\n",
    "    res = get_PCC(adata_pre, adata_true)\n",
    "    # print(res)\n",
    "    Hist2ST_results_all.append(res)"
   ]
  },
  {
   "attachments": {},
   "cell_type": "markdown",
   "id": "7a01a740",
   "metadata": {},
   "source": [
    "# Top gene prediction"
   ]
  },
  {
   "cell_type": "code",
   "execution_count": null,
   "id": "851e1572",
   "metadata": {},
   "outputs": [],
   "source": [
    "# Calculate the mean across all DataFrames element-wise\n",
    "mean_df = np.mean([df.values for df in results_all], axis=0)\n",
    "\n",
    "# Create a new DataFrame with the mean values\n",
    "mean_df = pd.DataFrame(mean_df, index=results_all[0].index, columns=results_all[0].columns)\n",
    "\n",
    "# Print the resulting DataFrame\n",
    "print(mean_df[:10])\n",
    "\n",
    "# 计算对应的基因的表达量 ： HGGEP\n",
    "#          -log10_PV       PCC            PV\n",
    "# GNAS     41.461921  0.623105  5.491569e-17\n",
    "# UBA52    30.599432  0.565826  9.797935e-13\n",
    "# MUCL1    27.730870  0.542192  1.220741e-10\n",
    "# HLA-B    25.330913  0.522077  7.795413e-09\n",
    "# HLA-DRA  24.376753  0.513529  1.439333e-08\n",
    "# SRSF5    22.948412  0.500819  3.473500e-08\n",
    "# VIM      21.857428  0.491059  9.101760e-08\n",
    "# CXXC5    21.167107  0.483817  9.344792e-08\n",
    "# SPARC    20.375119  0.475803  9.928255e-08\n",
    "# FASN     19.608907  0.467966  1.183600e-07"
   ]
  },
  {
   "cell_type": "code",
   "execution_count": null,
   "metadata": {},
   "outputs": [],
   "source": [
    "# 计算对应的基因的表达量 ： Hist2ST\n",
    "# Calculate the mean across all DataFrames element-wise\n",
    "mean_df = np.mean([df.values for df in Hist2ST_results_all], axis=0)\n",
    "\n",
    "# Create a new DataFrame with the mean values\n",
    "mean_df = pd.DataFrame(mean_df, index=Hist2ST_results_all[0].index, columns=Hist2ST_results_all[0].columns)\n",
    "print(mean_df[:10])\n",
    "# Print the resulting DataFrame\n",
    "for gene in ['GNAS', 'UBA52', 'MUCL1', 'HLA-B', 'HLA-DRA', 'SRSF5', 'VIM', 'CXXC5', 'SPARC', 'FASN']:\n",
    "    print(mean_df.loc[gene])\n",
    "\n",
    "#           -log10_PV       PCC            PV\n",
    "# IGKC      27.371680  0.528938  1.432967e-10\n",
    "# C3        20.338023  0.468656  6.180550e-08\n",
    "# GNAS      18.061492  0.444435  7.871247e-08\n",
    "# KRT17     17.083069  0.433135  3.483668e-07\n",
    "# IGLC2     16.144405  0.422656  4.038377e-07\n",
    "# IGLC3     15.592970  0.415894  5.110269e-07\n",
    "# TMEM184A  14.760000  0.404774  1.010671e-06\n",
    "# TFF3      14.316007  0.398951  1.253905e-06\n",
    "# SCD       13.835811  0.392418  2.050736e-06\n",
    "# MYL12B    13.382646  0.385515  3.082886e-06"
   ]
  },
  {
   "cell_type": "code",
   "execution_count": null,
   "id": "e9e11306",
   "metadata": {},
   "outputs": [],
   "source": [
    "# HisToGene\n",
    "#          -log10_PV       PCC        PV\n",
    "# GNAS     13.793088  0.323096  0.000024\n",
    "# SCD      11.294036  0.283800  0.000046\n",
    "# IGLC2    10.137152  0.294930  0.000093\n",
    "# C3        9.618945  0.294796  0.000134\n",
    "# FASN      9.240102  0.257429  0.000224\n",
    "# MYL12B    8.911048  0.293260  0.000297\n",
    "# APOC1     8.569591  0.230732  0.000356\n",
    "# TMEM123   8.179363  0.251036  0.000419\n",
    "# SRRT      7.899371  0.247817  0.000480\n",
    "# IGHA1     7.708450  0.266133  0.000530\n"
   ]
  },
  {
   "attachments": {},
   "cell_type": "markdown",
   "id": "0019cb84",
   "metadata": {},
   "source": [
    "# Figure 4 Performance comparison of top 10 gene predictions at HER2+ datasets"
   ]
  },
  {
   "cell_type": "code",
   "execution_count": 33,
   "id": "f5ff3958",
   "metadata": {},
   "outputs": [
    {
     "data": {
      "image/png": "[encoded data removed]",
      "text/plain": [
       "<Figure size 432x288 with 1 Axes>"
      ]
     },
     "metadata": {},
     "output_type": "display_data"
    }
   ],
   "source": [
    "import matplotlib.pyplot as plt\n",
    "import numpy as np\n",
    "from matplotlib.ticker import FormatStrFormatter\n",
    "\n",
    "# 模拟数据，实际应替换为您的数据\n",
    "genes = ['GNAS', 'UBA52', 'MUCL1', 'HLA-B', 'HLA-DRA', 'SRSF5', 'VIM', 'CXXC5', 'SPARC', 'FASN']\n",
    "# hist2st_data = np.random.rand(10)  # 替换为Hist2ST模型的PCC数据\n",
    "hist2st_data = [4.444347e-01, 0.279, 0.317, 0.287, 0.351, 0.255, 0.330, 0.304, 0.271, 0.374]\n",
    "hggep_data = [ 0.6231, 0.5658, 0.5421, 0.5220, 0.5135, 0.5008, 0.49105, 0.4838, 0.4758, 0.4679]   # 替换为HGGEP模型的PCC数据\n",
    "\n",
    "# 为每个基因生成不同的颜色\n",
    "# colors = plt.cm.rainbow(np.linspace(0, 1, 10))\n",
    "colors = plt.cm.plasma(np.linspace(0, 1, 10))\n",
    "\n",
    "# 绘制散点图\n",
    "for i in range(10):\n",
    "    plt.scatter(hist2st_data[i], hggep_data[i], label=genes[i], color=colors[i])\n",
    "\n",
    "# 添加标签和标题\n",
    "plt.xlabel('Hist2ST', fontweight='bold')\n",
    "plt.ylabel('HGGEP', fontweight='bold')\n",
    "plt.title('')\n",
    "\n",
    "# 绘制对角虚线\n",
    "plt.plot([0, 1], [0, 1], linestyle='--', color='gray', transform=plt.gca().transAxes)\n",
    "\n",
    "# 设置坐标轴纵横比例相等\n",
    "plt.gca().set_aspect('equal', adjustable='box')\n",
    "\n",
    "# 设置图形背景为白色\n",
    "plt.gcf().set_facecolor('white')\n",
    "\n",
    "# 设置横纵轴的阈值范围为1\n",
    "plt.xlim(0.2, 0.7)\n",
    "plt.ylim(0.2, 0.7)\n",
    "\n",
    "# 设置刻度线\n",
    "plt.xticks(np.linspace(0.2, 0.7, 6))  # 在横轴上设置刻度线\n",
    "plt.yticks(np.linspace(0.2, 0.7, 6))  # 在纵轴上设置刻度线\n",
    "\n",
    "# 设置刻度线，并保留两位小数\n",
    "plt.gca().xaxis.set_major_formatter(FormatStrFormatter('%.1f'))\n",
    "plt.gca().yaxis.set_major_formatter(FormatStrFormatter('%.1f'))\n",
    "\n",
    "# 设置刻度值字体大小\n",
    "plt.xticks(fontsize=12)\n",
    "plt.yticks(fontsize=12)\n",
    "\n",
    "# 保存高清图像\n",
    "plt.savefig('./figures/4_2.pdf')\n",
    "\n",
    "# 显示图表\n",
    "plt.show()\n"
   ]
  },
  {
   "cell_type": "code",
   "execution_count": 36,
   "id": "391b1b76",
   "metadata": {},
   "outputs": [
    {
     "data": {
      "image/png": "[encoded data removed]",
      "text/plain": [
       "<Figure size 432x288 with 1 Axes>"
      ]
     },
     "metadata": {},
     "output_type": "display_data"
    }
   ],
   "source": [
    "import matplotlib.pyplot as plt\n",
    "import numpy as np\n",
    "from matplotlib.ticker import FormatStrFormatter\n",
    "\n",
    "# 模拟数据，实际应替换为您的数据\n",
    "genes = ['GNAS', 'UBA52', 'MUCL1', 'HLA-B', 'HLA-DRA', 'SRSF5', 'VIM', 'CXXC5', 'SPARC', 'FASN']\n",
    "\n",
    "HisToGene_data = [0.323, 0.023883, 0.038710, 0.130701, 0.060204, 0.225490, 0.088668, 0.030520, 0.074998, 0.257429]\n",
    "hggep_data = [0.6231, 0.5658, 0.5421, 0.5220, 0.5135, 0.5008, 0.49105, 0.4838, 0.4758, 0.4679]   # 替换为HGGEP模型的PCC数据\n",
    "\n",
    "# 为每个基因生成不同的颜色\n",
    "# colors = plt.cm.rainbow(np.linspace(0, 1, 10))\n",
    "colors = plt.cm.plasma(np.linspace(0, 1, 10))\n",
    "\n",
    "# 绘制散点图\n",
    "for i in range(10):\n",
    "    plt.scatter(HisToGene_data[i], hggep_data[i], label=genes[i], color=colors[i])\n",
    "\n",
    "# 添加标签和标题\n",
    "plt.xlabel('HisToGene', fontweight='bold')\n",
    "plt.ylabel('HGGEP', fontweight='bold')\n",
    "plt.title('')\n",
    "\n",
    "# 绘制对角虚线\n",
    "plt.plot([0, 1], [0, 1], linestyle='--', color='gray', transform=plt.gca().transAxes)\n",
    "\n",
    "# 设置坐标轴纵横比例相等\n",
    "plt.gca().set_aspect('equal', adjustable='box')\n",
    "\n",
    "# 设置图形背景为白色\n",
    "plt.gcf().set_facecolor('white')\n",
    "\n",
    "# 设置横纵轴的阈值范围为1\n",
    "plt.xlim(0.0, 0.7)\n",
    "plt.ylim(0.0, 0.7)\n",
    "\n",
    "# 设置刻度线\n",
    "plt.xticks(np.linspace(0.0, 0.7, 8))  # 在横轴上设置刻度线\n",
    "plt.yticks(np.linspace(0.0, 0.7, 8))  # 在纵轴上设置刻度线\n",
    "\n",
    "# 设置刻度线，并保留两位小数\n",
    "plt.gca().xaxis.set_major_formatter(FormatStrFormatter('%.1f'))\n",
    "plt.gca().yaxis.set_major_formatter(FormatStrFormatter('%.1f'))\n",
    "\n",
    "# 设置刻度值字体大小\n",
    "plt.xticks(fontsize=12)\n",
    "plt.yticks(fontsize=12)\n",
    "\n",
    "# 保存高清图像\n",
    "plt.savefig('./figures/4_1.pdf')\n",
    "\n",
    "# 显示图表\n",
    "plt.show()"
   ]
  },
  {
   "cell_type": "code",
   "execution_count": 28,
   "id": "729e6af0",
   "metadata": {},
   "outputs": [
    {
     "data": {
      "image/png": "[encoded data removed]",
      "text/plain": [
       "<Figure size 432x288 with 1 Axes>"
      ]
     },
     "metadata": {},
     "output_type": "display_data"
    }
   ],
   "source": [
    "import matplotlib.pyplot as plt\n",
    "import numpy as np\n",
    "from matplotlib.ticker import FormatStrFormatter\n",
    "\n",
    "# 模拟数据，实际应替换为您的数据\n",
    "genes = ['GNAS', 'UBA52', 'MUCL1', 'HLA-B', 'HLA-DRA', 'SRSF5', 'VIM', 'CXXC5', 'SPARC', 'FASN']\n",
    "\n",
    "HisToGene_data = [0.323, 0.023883, 0.038710, 0.130701, 0.060204, 0.225490, 0.088668, 0.030520, 0.074998, 0.257429]\n",
    "hist2st_data = [0.24, 0.279, 0.317, 0.287, 0.351, 0.255, 0.330, 0.304, 0.271, 0.374]\n",
    "hggep_data = [0.6231, 0.5658, 0.5421, 0.5220, 0.5135, 0.5008, 0.49105, 0.4838, 0.4758, 0.4679]   # 替换为HGGEP模型的PCC数据\n",
    "\n",
    "# 为每个基因生成不同的颜色\n",
    "colors = plt.cm.rainbow(np.linspace(0, 1, 10))\n",
    "\n",
    "# 绘制散点图\n",
    "for i in range(10):\n",
    "    # plt.scatter(HisToGene_data[i], hggep_data[i], label=genes[i], color=colors[i])\n",
    "    plt.scatter(hist2st_data[i], hggep_data[i], label=genes[i], color=colors[i])\n",
    "\n",
    "# 添加标签和标题\n",
    "plt.xlabel('Hist2ST', fontweight='bold')\n",
    "plt.ylabel('HGGEP', fontweight='bold')\n",
    "plt.title('')\n",
    "\n",
    "# 绘制对角虚线\n",
    "plt.plot([0, 1], [0, 1], linestyle='--', color='gray', transform=plt.gca().transAxes)\n",
    "\n",
    "# 设置坐标轴纵横比例相等\n",
    "plt.gca().set_aspect('equal', adjustable='box')\n",
    "\n",
    "# 设置图形背景为白色\n",
    "plt.gcf().set_facecolor('white')\n",
    "\n",
    "# 设置横纵轴的阈值范围为1\n",
    "plt.xlim(0.0, 0.7)\n",
    "plt.ylim(0.0, 0.7)\n",
    "\n",
    "# 设置刻度线\n",
    "plt.xticks(np.linspace(0.0, 0.7, 5))  # 在横轴上设置刻度线\n",
    "plt.yticks(np.linspace(0.0, 0.7, 5))  # 在纵轴上设置刻度线\n",
    "\n",
    "# 设置刻度线，并保留两位小数\n",
    "plt.gca().xaxis.set_major_formatter(FormatStrFormatter('%.1f'))\n",
    "plt.gca().yaxis.set_major_formatter(FormatStrFormatter('%.1f'))\n",
    "\n",
    "# 设置刻度值字体大小\n",
    "plt.xticks(fontsize=12)\n",
    "plt.yticks(fontsize=12)\n",
    "\n",
    "# 保存高清图像\n",
    "plt.savefig('./figures/4_4.pdf')\n",
    "\n",
    "# 显示图表\n",
    "plt.show()"
   ]
  },
  {
   "attachments": {},
   "cell_type": "markdown",
   "id": "651d8d3d",
   "metadata": {},
   "source": [
    "# Figure 5. Spatial domain detection based on predicted gene expressions. "
   ]
  },
  {
   "cell_type": "code",
   "execution_count": 13,
   "id": "a14e60ea",
   "metadata": {},
   "outputs": [
    {
     "ename": "KeyError",
     "evalue": "'Could not find key FASN in .var_names or .obs.columns.'",
     "output_type": "error",
     "traceback": [
      "\u001b[0;31m---------------------------------------------------------------------------\u001b[0m",
      "\u001b[0;31mKeyError\u001b[0m                                  Traceback (most recent call last)",
      "Cell \u001b[0;32mIn[13], line 8\u001b[0m\n\u001b[1;32m      5\u001b[0m img_path \u001b[39m=\u001b[39m \u001b[39m'\u001b[39m\u001b[39m/home/zy/libo/Hist2ST/data/her2st/data/ST-imgs/B/B1/BT10737_C1_HE.jpg\u001b[39m\u001b[39m'\u001b[39m\n\u001b[1;32m      6\u001b[0m img_data \u001b[39m=\u001b[39m plt\u001b[39m.\u001b[39mimread(img_path)\n\u001b[0;32m----> 8\u001b[0m sc\u001b[39m.\u001b[39;49mpl\u001b[39m.\u001b[39;49mspatial(adata_pred, img\u001b[39m=\u001b[39;49mimg_data, color\u001b[39m=\u001b[39;49m\u001b[39m'\u001b[39;49m\u001b[39mFASN\u001b[39;49m\u001b[39m'\u001b[39;49m, spot_size\u001b[39m=\u001b[39;49m\u001b[39m112\u001b[39;49m, color_map\u001b[39m=\u001b[39;49m\u001b[39m'\u001b[39;49m\u001b[39mmagma\u001b[39;49m\u001b[39m'\u001b[39;49m)\n",
      "File \u001b[0;32m~/anaconda3/envs/gtn/lib/python3.8/site-packages/scanpy/plotting/_tools/scatterplots.py:1004\u001b[0m, in \u001b[0;36mspatial\u001b[0;34m(adata, basis, img, img_key, library_id, crop_coord, alpha_img, bw, size, scale_factor, spot_size, na_color, show, return_fig, save, **kwargs)\u001b[0m\n\u001b[1;32m   1001\u001b[0m     cmap_img \u001b[39m=\u001b[39m \u001b[39mNone\u001b[39;00m\n\u001b[1;32m   1002\u001b[0m circle_radius \u001b[39m=\u001b[39m size \u001b[39m*\u001b[39m scale_factor \u001b[39m*\u001b[39m spot_size \u001b[39m*\u001b[39m \u001b[39m0.5\u001b[39m\n\u001b[0;32m-> 1004\u001b[0m axs \u001b[39m=\u001b[39m embedding(\n\u001b[1;32m   1005\u001b[0m     adata,\n\u001b[1;32m   1006\u001b[0m     basis\u001b[39m=\u001b[39;49mbasis,\n\u001b[1;32m   1007\u001b[0m     scale_factor\u001b[39m=\u001b[39;49mscale_factor,\n\u001b[1;32m   1008\u001b[0m     size\u001b[39m=\u001b[39;49mcircle_radius,\n\u001b[1;32m   1009\u001b[0m     na_color\u001b[39m=\u001b[39;49mna_color,\n\u001b[1;32m   1010\u001b[0m     show\u001b[39m=\u001b[39;49m\u001b[39mFalse\u001b[39;49;00m,\n\u001b[1;32m   1011\u001b[0m     save\u001b[39m=\u001b[39;49m\u001b[39mFalse\u001b[39;49;00m,\n\u001b[1;32m   1012\u001b[0m     \u001b[39m*\u001b[39;49m\u001b[39m*\u001b[39;49mkwargs,\n\u001b[1;32m   1013\u001b[0m )\n\u001b[1;32m   1014\u001b[0m \u001b[39mif\u001b[39;00m \u001b[39mnot\u001b[39;00m \u001b[39misinstance\u001b[39m(axs, \u001b[39mlist\u001b[39m):\n\u001b[1;32m   1015\u001b[0m     axs \u001b[39m=\u001b[39m [axs]\n",
      "File \u001b[0;32m~/anaconda3/envs/gtn/lib/python3.8/site-packages/scanpy/plotting/_tools/scatterplots.py:258\u001b[0m, in \u001b[0;36membedding\u001b[0;34m(adata, basis, color, gene_symbols, use_raw, sort_order, edges, edges_width, edges_color, neighbors_key, arrows, arrows_kwds, groups, components, dimensions, layer, projection, scale_factor, color_map, cmap, palette, na_color, na_in_legend, size, frameon, legend_fontsize, legend_fontweight, legend_loc, legend_fontoutline, colorbar_loc, vmax, vmin, vcenter, norm, add_outline, outline_width, outline_color, ncols, hspace, wspace, title, show, save, ax, return_fig, **kwargs)\u001b[0m\n\u001b[1;32m    251\u001b[0m \u001b[39m# use itertools.product to make a plot for each color and for each component\u001b[39;00m\n\u001b[1;32m    252\u001b[0m \u001b[39m# For example if color=[gene1, gene2] and components=['1,2, '2,3'].\u001b[39;00m\n\u001b[1;32m    253\u001b[0m \u001b[39m# The plots are: [\u001b[39;00m\n\u001b[1;32m    254\u001b[0m \u001b[39m#     color=gene1, components=[1,2], color=gene1, components=[2,3],\u001b[39;00m\n\u001b[1;32m    255\u001b[0m \u001b[39m#     color=gene2, components = [1, 2], color=gene2, components=[2,3],\u001b[39;00m\n\u001b[1;32m    256\u001b[0m \u001b[39m# ]\u001b[39;00m\n\u001b[1;32m    257\u001b[0m \u001b[39mfor\u001b[39;00m count, (value_to_plot, dims) \u001b[39min\u001b[39;00m \u001b[39menumerate\u001b[39m(\u001b[39mzip\u001b[39m(color, dimensions)):\n\u001b[0;32m--> 258\u001b[0m     color_source_vector \u001b[39m=\u001b[39m _get_color_source_vector(\n\u001b[1;32m    259\u001b[0m         adata,\n\u001b[1;32m    260\u001b[0m         value_to_plot,\n\u001b[1;32m    261\u001b[0m         layer\u001b[39m=\u001b[39;49mlayer,\n\u001b[1;32m    262\u001b[0m         use_raw\u001b[39m=\u001b[39;49muse_raw,\n\u001b[1;32m    263\u001b[0m         gene_symbols\u001b[39m=\u001b[39;49mgene_symbols,\n\u001b[1;32m    264\u001b[0m         groups\u001b[39m=\u001b[39;49mgroups,\n\u001b[1;32m    265\u001b[0m     )\n\u001b[1;32m    266\u001b[0m     color_vector, categorical \u001b[39m=\u001b[39m _color_vector(\n\u001b[1;32m    267\u001b[0m         adata,\n\u001b[1;32m    268\u001b[0m         value_to_plot,\n\u001b[0;32m   (...)\u001b[0m\n\u001b[1;32m    271\u001b[0m         na_color\u001b[39m=\u001b[39mna_color,\n\u001b[1;32m    272\u001b[0m     )\n\u001b[1;32m    274\u001b[0m     \u001b[39m# Order points\u001b[39;00m\n",
      "File \u001b[0;32m~/anaconda3/envs/gtn/lib/python3.8/site-packages/scanpy/plotting/_tools/scatterplots.py:1170\u001b[0m, in \u001b[0;36m_get_color_source_vector\u001b[0;34m(adata, value_to_plot, use_raw, gene_symbols, layer, groups)\u001b[0m\n\u001b[1;32m   1168\u001b[0m     values \u001b[39m=\u001b[39m adata\u001b[39m.\u001b[39mraw\u001b[39m.\u001b[39mobs_vector(value_to_plot)\n\u001b[1;32m   1169\u001b[0m \u001b[39melse\u001b[39;00m:\n\u001b[0;32m-> 1170\u001b[0m     values \u001b[39m=\u001b[39m adata\u001b[39m.\u001b[39;49mobs_vector(value_to_plot, layer\u001b[39m=\u001b[39;49mlayer)\n\u001b[1;32m   1171\u001b[0m \u001b[39mif\u001b[39;00m groups \u001b[39mand\u001b[39;00m is_categorical_dtype(values):\n\u001b[1;32m   1172\u001b[0m     values \u001b[39m=\u001b[39m values\u001b[39m.\u001b[39mremove_categories(values\u001b[39m.\u001b[39mcategories\u001b[39m.\u001b[39mdifference(groups))\n",
      "File \u001b[0;32m~/anaconda3/envs/gtn/lib/python3.8/site-packages/anndata/_core/anndata.py:1383\u001b[0m, in \u001b[0;36mAnnData.obs_vector\u001b[0;34m(self, k, layer)\u001b[0m\n\u001b[1;32m   1377\u001b[0m         warnings\u001b[39m.\u001b[39mwarn(\n\u001b[1;32m   1378\u001b[0m             \u001b[39m\"\u001b[39m\u001b[39mIn a future version of AnnData, access to `.X` by passing\u001b[39m\u001b[39m\"\u001b[39m\n\u001b[1;32m   1379\u001b[0m             \u001b[39m\"\u001b[39m\u001b[39m `layer=\u001b[39m\u001b[39m'\u001b[39m\u001b[39mX\u001b[39m\u001b[39m'\u001b[39m\u001b[39m` will be removed. Instead pass `layer=None`.\u001b[39m\u001b[39m\"\u001b[39m,\n\u001b[1;32m   1380\u001b[0m             \u001b[39mFutureWarning\u001b[39;00m,\n\u001b[1;32m   1381\u001b[0m         )\n\u001b[1;32m   1382\u001b[0m         layer \u001b[39m=\u001b[39m \u001b[39mNone\u001b[39;00m\n\u001b[0;32m-> 1383\u001b[0m \u001b[39mreturn\u001b[39;00m get_vector(\u001b[39mself\u001b[39;49m, k, \u001b[39m\"\u001b[39;49m\u001b[39mobs\u001b[39;49m\u001b[39m\"\u001b[39;49m, \u001b[39m\"\u001b[39;49m\u001b[39mvar\u001b[39;49m\u001b[39m\"\u001b[39;49m, layer\u001b[39m=\u001b[39;49mlayer)\n",
      "File \u001b[0;32m~/anaconda3/envs/gtn/lib/python3.8/site-packages/anndata/_core/index.py:191\u001b[0m, in \u001b[0;36mget_vector\u001b[0;34m(adata, k, coldim, idxdim, layer)\u001b[0m\n\u001b[1;32m    187\u001b[0m     \u001b[39mraise\u001b[39;00m \u001b[39mValueError\u001b[39;00m(\n\u001b[1;32m    188\u001b[0m         \u001b[39mf\u001b[39m\u001b[39m\"\u001b[39m\u001b[39mKey \u001b[39m\u001b[39m{\u001b[39;00mk\u001b[39m}\u001b[39;00m\u001b[39m could be found in both .\u001b[39m\u001b[39m{\u001b[39;00midxdim\u001b[39m}\u001b[39;00m\u001b[39m_names and .\u001b[39m\u001b[39m{\u001b[39;00mcoldim\u001b[39m}\u001b[39;00m\u001b[39m.columns\u001b[39m\u001b[39m\"\u001b[39m\n\u001b[1;32m    189\u001b[0m     )\n\u001b[1;32m    190\u001b[0m \u001b[39melif\u001b[39;00m (in_col \u001b[39m+\u001b[39m in_idx) \u001b[39m==\u001b[39m \u001b[39m0\u001b[39m:\n\u001b[0;32m--> 191\u001b[0m     \u001b[39mraise\u001b[39;00m \u001b[39mKeyError\u001b[39;00m(\n\u001b[1;32m    192\u001b[0m         \u001b[39mf\u001b[39m\u001b[39m\"\u001b[39m\u001b[39mCould not find key \u001b[39m\u001b[39m{\u001b[39;00mk\u001b[39m}\u001b[39;00m\u001b[39m in .\u001b[39m\u001b[39m{\u001b[39;00midxdim\u001b[39m}\u001b[39;00m\u001b[39m_names or .\u001b[39m\u001b[39m{\u001b[39;00mcoldim\u001b[39m}\u001b[39;00m\u001b[39m.columns.\u001b[39m\u001b[39m\"\u001b[39m\n\u001b[1;32m    193\u001b[0m     )\n\u001b[1;32m    194\u001b[0m \u001b[39melif\u001b[39;00m in_col:\n\u001b[1;32m    195\u001b[0m     \u001b[39mreturn\u001b[39;00m \u001b[39mgetattr\u001b[39m(adata, coldim)[k]\u001b[39m.\u001b[39mvalues\n",
      "\u001b[0;31mKeyError\u001b[0m: 'Could not find key FASN in .var_names or .obs.columns.'"
     ]
    },
    {
     "data": {
      "image/png": "[encoded data removed]",
      "text/plain": [
       "<Figure size 432x288 with 1 Axes>"
      ]
     },
     "metadata": {
      "needs_background": "light"
     },
     "output_type": "display_data"
    }
   ],
   "source": [
    "import matplotlib.pyplot as plt\n",
    "\n",
    "# decide which model for generating adata_pred\n",
    "\n",
    "img_path = '/home/zy/libo/Hist2ST/data/her2st/data/ST-imgs/B/B1/BT10737_C1_HE.jpg'\n",
    "img_data = plt.imread(img_path)\n",
    "\n",
    "sc.pl.spatial(adata_pred, img=img_data, color='FASN', spot_size=112, color_map='magma')"
   ]
  },
  {
   "cell_type": "code",
   "execution_count": 14,
   "id": "e035c599",
   "metadata": {},
   "outputs": [
    {
     "ename": "NameError",
     "evalue": "name 'pred' is not defined",
     "output_type": "error",
     "traceback": [
      "\u001b[0;31m---------------------------------------------------------------------------\u001b[0m",
      "\u001b[0;31mNameError\u001b[0m                                 Traceback (most recent call last)",
      "Cell \u001b[0;32mIn[14], line 6\u001b[0m\n\u001b[1;32m      4\u001b[0m img_data \u001b[39m=\u001b[39m plt\u001b[39m.\u001b[39mimread(img_path)\n\u001b[1;32m      5\u001b[0m \u001b[39m# print(pred.shape, pred[0][:10])\u001b[39;00m\n\u001b[0;32m----> 6\u001b[0m sc\u001b[39m.\u001b[39mpl\u001b[39m.\u001b[39mspatial(pred, img\u001b[39m=\u001b[39mimg_data, color\u001b[39m=\u001b[39m\u001b[39m'\u001b[39m\u001b[39mkmeans\u001b[39m\u001b[39m'\u001b[39m, spot_size\u001b[39m=\u001b[39m\u001b[39m112\u001b[39m)\n\u001b[1;32m      7\u001b[0m sc\u001b[39m.\u001b[39mpl\u001b[39m.\u001b[39mspatial(gt, img\u001b[39m=\u001b[39mimg_data, color\u001b[39m=\u001b[39m\u001b[39m'\u001b[39m\u001b[39mkmeans\u001b[39m\u001b[39m'\u001b[39m, spot_size\u001b[39m=\u001b[39m\u001b[39m112\u001b[39m)\n\u001b[1;32m      9\u001b[0m sc\u001b[39m.\u001b[39mpl\u001b[39m.\u001b[39mspatial(adata_pred, img\u001b[39m=\u001b[39m\u001b[39mNone\u001b[39;00m, color\u001b[39m=\u001b[39m\u001b[39m'\u001b[39m\u001b[39mFASN\u001b[39m\u001b[39m'\u001b[39m, spot_size\u001b[39m=\u001b[39m\u001b[39m112\u001b[39m, color_map\u001b[39m=\u001b[39m\u001b[39m'\u001b[39m\u001b[39mmagma\u001b[39m\u001b[39m'\u001b[39m)\n",
      "\u001b[0;31mNameError\u001b[0m: name 'pred' is not defined"
     ]
    }
   ],
   "source": [
    "# Draw picture, show the results of gene prediction.\n",
    "import matplotlib.pyplot as plt\n",
    "img_path = '/home/zy/libo/Hist2ST/data/her2st/data/ST-imgs/B/B1/BT10737_C1_HE.jpg'\n",
    "img_data = plt.imread(img_path)\n",
    "# print(pred.shape, pred[0][:10])\n",
    "sc.pl.spatial(pred, img=img_data, color='kmeans', spot_size=112)\n",
    "sc.pl.spatial(gt, img=img_data, color='kmeans', spot_size=112)\n",
    "\n",
    "sc.pl.spatial(adata_pred, img=None, color='FASN', spot_size=112, color_map='magma')"
   ]
  },
  {
   "attachments": {},
   "cell_type": "markdown",
   "id": "81625365",
   "metadata": {},
   "source": [
    "# Test cscc all !"
   ]
  },
  {
   "cell_type": "code",
   "execution_count": null,
   "id": "7f8e63d8",
   "metadata": {},
   "outputs": [],
   "source": [
    "from HIST2ST_HGNN_CSCC import *\n",
    "\n",
    "folds=[]\n",
    "for i in range(12):\n",
    "    folds.append(i)\n",
    "# print(folds)\n",
    "data='cscc'\n",
    "prune='Grid' if data=='her2st' else 'NA'\n",
    "genes=171 if data=='cscc' else 785\n",
    "gene_names = list(np.load('data/skin_hvg_cut_1000.npy',allow_pickle=True))\n",
    "\n",
    "def get_PCC(adata_pre, adata_true):\n",
    "    # 提取 var_names 列的基因名称\n",
    "    gene_names = adata_pre.columns\n",
    "\n",
    "    # 初始化一个空的 DataFrame 用于存储结果\n",
    "    result_df = pd.DataFrame(index=['-log10_PV', 'PCC', 'PV',], columns=gene_names)\n",
    "\n",
    "    # 计算每一列的皮尔逊相关系数和 p-value\n",
    "    for gene in gene_names:\n",
    "        corr_coef, p_value = pearsonr(adata_pre[gene], adata_true[gene])\n",
    "        result_df[gene] = [-np.log10(p_value), corr_coef, p_value]\n",
    "\n",
    "    # 转置 DataFrame，使得基因名称成为索引\n",
    "    result_df = result_df.T\n",
    "\n",
    "    # 根据 PCC 指数排序\n",
    "    result_df_sorted = result_df.sort_values(by='-log10_PV', ascending=False)\n",
    "\n",
    "    return result_df_sorted\n",
    "\n",
    "cscc_results_all = []\n",
    "\n",
    "for fold in folds:\n",
    "    testset = pk_load(fold,'test',dataset=data,flatten=False,adj=True,ori=True,prune=prune)\n",
    "    test_loader = DataLoader(testset, batch_size=1, num_workers=0, shuffle=False)\n",
    "\n",
    "    model=Hist2ST(\n",
    "        depth1=d1, depth2=d2,depth3=d3,n_genes=genes, \n",
    "        kernel_size=k, patch_size=p,\n",
    "        heads=h, channel=c, dropout=0.2,\n",
    "        zinb=0.25, nb=False,\n",
    "        bake=5, lamb=0.5,\n",
    "    )\n",
    "\n",
    "    model.load_state_dict(torch.load(f'./model/cscc/'+str(fold)+'-HGGEP.ckpt'))\n",
    "    adata_pred, adata_truth = test(model, test_loader)\n",
    "    adata_pred.var_names = gene_names\n",
    "    adata_truth.var_names = gene_names\n",
    "    adata_true = pd.DataFrame(data=adata_truth.X, index=adata_truth.obs_names, columns=adata_truth.var_names)\n",
    "    adata_pre = pd.DataFrame(data=adata_pred.X, index=adata_pred.obs_names, columns=adata_pred.var_names)\n",
    "    res = get_PCC(adata_pre, adata_true)\n",
    "    # print(res)\n",
    "    cscc_results_all.append(res)\n"
   ]
  },
  {
   "cell_type": "code",
   "execution_count": 15,
   "id": "2a035382",
   "metadata": {},
   "outputs": [
    {
     "ename": "NameError",
     "evalue": "name 'cscc_results_all' is not defined",
     "output_type": "error",
     "traceback": [
      "\u001b[0;31m---------------------------------------------------------------------------\u001b[0m",
      "\u001b[0;31mNameError\u001b[0m                                 Traceback (most recent call last)",
      "Cell \u001b[0;32mIn[15], line 5\u001b[0m\n\u001b[1;32m      1\u001b[0m \u001b[39m# Replace df1, df2, ... with your actual DataFrames\u001b[39;00m\n\u001b[1;32m      2\u001b[0m \u001b[39m# results_all = [df1, df2, ..., df32]\u001b[39;00m\n\u001b[1;32m      3\u001b[0m \n\u001b[1;32m      4\u001b[0m \u001b[39m# Calculate the mean across all DataFrames element-wise\u001b[39;00m\n\u001b[0;32m----> 5\u001b[0m mean_df \u001b[39m=\u001b[39m np\u001b[39m.\u001b[39mmean([df\u001b[39m.\u001b[39mvalues \u001b[39mfor\u001b[39;00m df \u001b[39min\u001b[39;00m cscc_results_all], axis\u001b[39m=\u001b[39m\u001b[39m0\u001b[39m)\n\u001b[1;32m      7\u001b[0m \u001b[39m# Create a new DataFrame with the mean values\u001b[39;00m\n\u001b[1;32m      8\u001b[0m mean_df \u001b[39m=\u001b[39m pd\u001b[39m.\u001b[39mDataFrame(mean_df, index\u001b[39m=\u001b[39mcscc_results_all[\u001b[39m0\u001b[39m]\u001b[39m.\u001b[39mindex, columns\u001b[39m=\u001b[39mcscc_results_all[\u001b[39m0\u001b[39m]\u001b[39m.\u001b[39mcolumns)\n",
      "\u001b[0;31mNameError\u001b[0m: name 'cscc_results_all' is not defined"
     ]
    }
   ],
   "source": [
    "# Replace df1, df2, ... with your actual DataFrames\n",
    "# results_all = [df1, df2, ..., df32]\n",
    "\n",
    "# Calculate the mean across all DataFrames element-wise\n",
    "mean_df = np.mean([df.values for df in cscc_results_all], axis=0)\n",
    "\n",
    "# Create a new DataFrame with the mean values\n",
    "mean_df = pd.DataFrame(mean_df, index=cscc_results_all[0].index, columns=cscc_results_all[0].columns)\n",
    "\n",
    "# Print the resulting DataFrame\n",
    "print(mean_df[:10])"
   ]
  },
  {
   "attachments": {},
   "cell_type": "markdown",
   "id": "1acd1d7d",
   "metadata": {},
   "source": [
    "画图，展示基因预测结果的图"
   ]
  },
  {
   "cell_type": "code",
   "execution_count": 17,
   "id": "c3ab6173",
   "metadata": {},
   "outputs": [
    {
     "ename": "NameError",
     "evalue": "name 'pred' is not defined",
     "output_type": "error",
     "traceback": [
      "\u001b[0;31m---------------------------------------------------------------------------\u001b[0m",
      "\u001b[0;31mNameError\u001b[0m                                 Traceback (most recent call last)",
      "Cell \u001b[0;32mIn[17], line 9\u001b[0m\n\u001b[1;32m      7\u001b[0m img_data \u001b[39m=\u001b[39m plt\u001b[39m.\u001b[39mimread(img_path)\n\u001b[1;32m      8\u001b[0m \u001b[39m# print(pred.shape, pred[0][:10])\u001b[39;00m\n\u001b[0;32m----> 9\u001b[0m sc\u001b[39m.\u001b[39mpl\u001b[39m.\u001b[39mspatial(pred, img\u001b[39m=\u001b[39mimg_data, color\u001b[39m=\u001b[39m\u001b[39m'\u001b[39m\u001b[39mkmeans\u001b[39m\u001b[39m'\u001b[39m, spot_size\u001b[39m=\u001b[39m\u001b[39m112\u001b[39m)\n",
      "\u001b[0;31mNameError\u001b[0m: name 'pred' is not defined"
     ]
    }
   ],
   "source": [
    "import matplotlib.pyplot as plt\n",
    "img_path = '/home/zy/libo/Hist2ST/data/her2st/data/ST-imgs/B/B1/BT10737_C1_HE.jpg'\n",
    "\n",
    "# sc.pl.spatial(adata_pred, img=None, color='FASN', spot_size=112, color_map='magma')\n",
    "\n",
    "img_data = plt.imread(img_path)\n",
    "# print(pred.shape, pred[0][:10])\n",
    "sc.pl.spatial(pred, img=img_data, color='kmeans', spot_size=112)\n"
   ]
  },
  {
   "attachments": {},
   "cell_type": "markdown",
   "id": "fdbe36b3",
   "metadata": {},
   "source": [
    "# Fig 3: Ablation results"
   ]
  },
  {
   "cell_type": "code",
   "execution_count": 24,
   "id": "76b838d6",
   "metadata": {},
   "outputs": [
    {
     "data": {
      "image/png": "[encoded data removed]",
      "text/plain": [
       "<Figure size 720x288 with 1 Axes>"
      ]
     },
     "metadata": {},
     "output_type": "display_data"
    }
   ],
   "source": [
    "import matplotlib.pyplot as plt\n",
    "from matplotlib.ticker import FormatStrFormatter\n",
    "\n",
    "# 模拟一些数据\n",
    "modules = ['Backbone', '+GEM', '+CBAM', '+LSTM', '+ViT', '+HAM(Our)', 'Hist2ST', 'HisToGene', 'STNet']\n",
    "pcc_values = [0.08, 0.11, 0.13, 0.14, 0.172, 0.193, 0.15, 0.06, 0.02]\n",
    "\n",
    "# 使用更吸引人的颜色\n",
    "colors = ['lightcoral', 'lightcoral', 'lightcoral', 'lightcoral', 'lightcoral', 'lightcoral', 'lightblue', '#b2df8a', 'lightgray']\n",
    "\n",
    "# 调整图的大小\n",
    "plt.figure(figsize=(10, 4))\n",
    "\n",
    "# 创建柱状图，每个柱子使用不同颜色\n",
    "plt.bar(modules, pcc_values, color=colors, width=0.5, label='PCC Values')\n",
    "\n",
    "# 添加标题和标签\n",
    "# plt.title('Ablation Experiment on HER2+', fontweight='bold', fontsize=20)  # 加粗标题\n",
    "plt.xlabel('Modules', fontweight='bold', fontsize=18)  # 加粗 x 轴标签\n",
    "plt.ylabel('PCC', fontweight='bold', fontsize=18)  # 加粗 y 轴标签\n",
    "\n",
    "# 设置纵轴刻度标签格式\n",
    "plt.gca().yaxis.set_major_formatter(FormatStrFormatter('%.2f'))\n",
    "\n",
    "# 设置图形背景为白色\n",
    "plt.gcf().set_facecolor('white')\n",
    "\n",
    "# 设置纵轴刻度松散点\n",
    "plt.yticks([0, 0.05, 0.1, 0.15, 0.2])\n",
    "\n",
    "# 移除上方和右方的边框\n",
    "plt.gca().spines['right'].set_visible(False)\n",
    "plt.gca().spines['top'].set_visible(False)\n",
    "\n",
    "# 保存图形为PNG文件\n",
    "plt.savefig('./figures/3_HER2_Ablation.pdf')\n",
    "\n",
    "# 显示柱状图\n",
    "plt.show()\n"
   ]
  },
  {
   "attachments": {},
   "cell_type": "markdown",
   "id": "bc048cd4",
   "metadata": {},
   "source": [
    "# BDS"
   ]
  },
  {
   "cell_type": "code",
   "execution_count": 57,
   "id": "5af25d1c",
   "metadata": {},
   "outputs": [
    {
     "data": {
      "text/plain": [
       "['KRT14',\n",
       " 'KRT6A',\n",
       " 'S100A8',\n",
       " 'S100A9',\n",
       " 'KRT16',\n",
       " 'KRT6B',\n",
       " 'KRT6C',\n",
       " 'KRT5',\n",
       " 'KRT17',\n",
       " 'MT-CO2',\n",
       " 'S100A2',\n",
       " 'SPRR1B',\n",
       " 'MT-CO1',\n",
       " 'MT-CO3',\n",
       " 'COL1A1',\n",
       " 'ACTB',\n",
       " 'PERP',\n",
       " 'KRT10',\n",
       " 'KRT1',\n",
       " 'FABP5',\n",
       " 'LGALS7B',\n",
       " 'S100A7',\n",
       " 'EEF1A1',\n",
       " 'SFN',\n",
       " 'LGALS7',\n",
       " 'DCD',\n",
       " 'RPLP1',\n",
       " 'RPS12',\n",
       " 'GJB2',\n",
       " 'ACTG1',\n",
       " 'B2M',\n",
       " 'HLA-B',\n",
       " 'RPLP2',\n",
       " 'CSTA',\n",
       " 'PFN1',\n",
       " 'COL3A1',\n",
       " 'DSP',\n",
       " 'KRTDAP',\n",
       " 'RPS17',\n",
       " 'COL1A2',\n",
       " 'TPT1',\n",
       " 'RPS24',\n",
       " 'SPRR2A',\n",
       " 'MT-ND4',\n",
       " 'RPL37A',\n",
       " 'MT-ATP6',\n",
       " 'CSTB',\n",
       " 'RPS6',\n",
       " 'RPS8',\n",
       " 'RPS18',\n",
       " 'TMSB10',\n",
       " 'RPL13',\n",
       " 'RPL13A',\n",
       " 'RPL31',\n",
       " 'RPL11',\n",
       " 'RPLP0',\n",
       " 'RPL32',\n",
       " 'ENO1',\n",
       " 'CALML5',\n",
       " 'DSC2',\n",
       " 'JUP',\n",
       " 'AQP3',\n",
       " 'RPS14',\n",
       " 'RPS11',\n",
       " 'RPL28',\n",
       " 'RPL27',\n",
       " 'RPS27A',\n",
       " 'RPL36',\n",
       " 'CXCL14',\n",
       " 'MT-CYB',\n",
       " 'RPS27',\n",
       " 'RPS29',\n",
       " 'RPL3',\n",
       " 'RPL27A',\n",
       " 'LDHA',\n",
       " 'RPS19',\n",
       " 'MT-ND3',\n",
       " 'DMKN',\n",
       " 'RPL9',\n",
       " 'KRT2',\n",
       " 'RPS28',\n",
       " 'SBSN',\n",
       " 'RPL8',\n",
       " 'GSTP1',\n",
       " 'SLPI',\n",
       " 'RPL34',\n",
       " 'MT-ND1',\n",
       " 'RPL7A',\n",
       " 'RPL6',\n",
       " 'RPS2',\n",
       " 'LY6D',\n",
       " 'PKP1',\n",
       " 'ANXA1',\n",
       " 'YWHAZ',\n",
       " 'RPL19',\n",
       " 'RPL23',\n",
       " 'ANXA2',\n",
       " 'RACK1',\n",
       " 'TMSB4X',\n",
       " 'RPS25']"
      ]
     },
     "execution_count": 57,
     "metadata": {},
     "output_type": "execute_result"
    }
   ],
   "source": [
    "gene_list = list(np.load('data/final_gene_expression.npy',allow_pickle=True))\n",
    "gene_list"
   ]
  },
  {
   "cell_type": "code",
   "execution_count": 59,
   "id": "a1e908ed",
   "metadata": {},
   "outputs": [
    {
     "name": "stdout",
     "output_type": "stream",
     "text": [
      "KRT14\n",
      "KRT6A\n",
      "S100A8\n",
      "S100A9\n",
      "KRT16\n",
      "KRT6B\n",
      "KRT6C\n",
      "KRT5\n",
      "KRT17\n",
      "MT-CO2\n",
      "S100A2\n",
      "SPRR1B\n",
      "MT-CO1\n",
      "MT-CO3\n",
      "COL1A1\n",
      "ACTB\n",
      "PERP\n",
      "KRT10\n",
      "KRT1\n",
      "FABP5\n",
      "LGALS7B\n",
      "S100A7\n",
      "EEF1A1\n",
      "SFN\n",
      "LGALS7\n",
      "DCD\n",
      "RPLP1\n",
      "RPS12\n",
      "GJB2\n",
      "ACTG1\n",
      "B2M\n",
      "HLA-B\n",
      "RPLP2\n",
      "CSTA\n",
      "PFN1\n",
      "COL3A1\n",
      "DSP\n",
      "KRTDAP\n",
      "RPS17\n",
      "COL1A2\n",
      "TPT1\n",
      "RPS24\n",
      "SPRR2A\n",
      "MT-ND4\n",
      "RPL37A\n",
      "MT-ATP6\n",
      "CSTB\n",
      "RPS6\n",
      "RPS8\n",
      "RPS18\n",
      "TMSB10\n",
      "RPL13\n",
      "RPL13A\n",
      "RPL31\n",
      "RPL11\n",
      "RPLP0\n",
      "RPL32\n",
      "ENO1\n",
      "CALML5\n",
      "DSC2\n",
      "JUP\n",
      "AQP3\n",
      "RPS14\n",
      "RPS11\n",
      "RPL28\n",
      "RPL27\n",
      "RPS27A\n",
      "RPL36\n",
      "CXCL14\n",
      "MT-CYB\n",
      "RPS27\n",
      "RPS29\n",
      "RPL3\n",
      "RPL27A\n",
      "LDHA\n",
      "RPS19\n",
      "MT-ND3\n",
      "DMKN\n",
      "RPL9\n",
      "KRT2\n",
      "RPS28\n",
      "SBSN\n",
      "RPL8\n",
      "GSTP1\n",
      "SLPI\n",
      "RPL34\n",
      "MT-ND1\n",
      "RPL7A\n",
      "RPL6\n",
      "RPS2\n",
      "LY6D\n",
      "PKP1\n",
      "ANXA1\n",
      "YWHAZ\n",
      "RPL19\n",
      "RPL23\n",
      "ANXA2\n",
      "RACK1\n",
      "TMSB4X\n",
      "RPS25\n"
     ]
    },
    {
     "ename": "",
     "evalue": "",
     "output_type": "error",
     "traceback": [
      "\u001b[1;31m在当前单元格或上一个单元格中执行代码时 Kernel 崩溃。请查看单元格中的代码，以确定故障的可能原因。有关详细信息，请单击 <a href='https://aka.ms/vscodeJupyterKernelCrash'>此处</a>。有关更多详细信息，请查看 Jupyter <a href='command:jupyter.viewOutput'>log</a>。"
     ]
    }
   ],
   "source": [
    "a = list(gene_list)\n",
    "for i in a:\n",
    "    print(i)"
   ]
  },
  {
   "cell_type": "code",
   "execution_count": null,
   "id": "4db52991",
   "metadata": {},
   "outputs": [],
   "source": []
  },
  {
   "cell_type": "code",
   "execution_count": null,
   "id": "e928c9b6",
   "metadata": {},
   "outputs": [],
   "source": []
  }
 ],
 "metadata": {
  "kernelspec": {
   "display_name": "gtn",
   "language": "python",
   "name": "python3"
  },
  "language_info": {
   "codemirror_mode": {
    "name": "ipython",
    "version": 3
   },
   "file_extension": ".py",
   "mimetype": "text/x-python",
   "name": "python",
   "nbconvert_exporter": "python",
   "pygments_lexer": "ipython3",
   "version": "3.8.13"
  },
  "pycharm": {
   "stem_cell": {
    "cell_type": "raw",
    "metadata": {
     "collapsed": false
    },
    "source": []
   }
  },
  "vscode": {
   "interpreter": {
    "hash": "f5bc5193494f8e31bb35f143e2e9d2a9395cc76e28c0276d02df8e52647f48fb"
   }
  }
 },
 "nbformat": 4,
 "nbformat_minor": 5
}
