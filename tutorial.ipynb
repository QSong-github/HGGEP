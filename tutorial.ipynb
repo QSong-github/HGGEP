{
 "cells": [
  {
   "cell_type": "code",
   "execution_count": 1,
   "id": "053309c2-cb6d-4623-83b7-7b0d947998e6",
   "metadata": {},
   "outputs": [
    {
     "name": "stderr",
     "output_type": "stream",
     "text": [
      "/home/zy/anaconda3/envs/gtn/lib/python3.8/site-packages/tqdm/auto.py:22: TqdmWarning: IProgress not found. Please update jupyter and ipywidgets. See https://ipywidgets.readthedocs.io/en/stable/user_install.html\n",
      "  from .autonotebook import tqdm as notebook_tqdm\n",
      "/home/zy/anaconda3/envs/gtn/lib/python3.8/site-packages/scipy/__init__.py:146: UserWarning: A NumPy version >=1.16.5 and <1.23.0 is required for this version of SciPy (detected version 1.24.4\n",
      "  warnings.warn(f\"A NumPy version >={np_minversion} and <{np_maxversion}\"\n"
     ]
    },
    {
     "name": "stdout",
     "output_type": "stream",
     "text": [
      "[easydl] tensorflow not available!\n"
     ]
    }
   ],
   "source": [
    "import torch\n",
    "import numpy as np\n",
    "import pytorch_lightning as pl\n",
    "import torchvision.transforms as tf\n",
    "from tqdm import tqdm\n",
    "from predict import *\n",
    "from HGGEP import *\n",
    "from dataset import ViT_HER2ST, ViT_SKIN\n",
    "from scipy.stats import pearsonr,spearmanr\n",
    "from torch.utils.data import DataLoader\n",
    "from pytorch_lightning.loggers import TensorBoardLogger\n",
    "from copy import deepcopy as dcp\n",
    "from collections import defaultdict as dfd\n",
    "from sklearn.metrics import adjusted_rand_score as ari_score\n",
    "from sklearn.metrics.cluster import normalized_mutual_info_score as nmi_score"
   ]
  },
  {
   "cell_type": "markdown",
   "id": "b132bfb4-bd29-44fa-bbca-3790b0848fd4",
   "metadata": {},
   "source": [
    "# Data Loading"
   ]
  },
  {
   "cell_type": "code",
   "execution_count": 2,
   "id": "6281d8f2-e5f7-4c26-88bf-5256197b1418",
   "metadata": {
    "tags": []
   },
   "outputs": [],
   "source": [
    "name=[*[f'A{i}' for i in range(2,7)],*[f'B{i}' for i in range(1,7)],\n",
    "      *[f'C{i}' for i in range(1,7)],*[f'D{i}' for i in range(1,7)],\n",
    "      *[f'E{i}' for i in range(1,4)],*[f'F{i}' for i in range(1,4)],*[f'G{i}' for i in range(1,4)]]\n",
    "patients = ['P2', 'P5', 'P9', 'P10']\n",
    "reps = ['rep1', 'rep2', 'rep3']\n",
    "skinname = []\n",
    "for i in patients:\n",
    "    for j in reps:\n",
    "        skinname.append(i+'_ST_'+j)\n",
    "device='cuda'\n",
    "tag='5-7-2-8-4-16-32'\n",
    "k,p,d1,d2,d3,h,c=map(lambda x:int(x),tag.split('-'))\n",
    "dropout=0.2\n",
    "random.seed(12000)\n",
    "np.random.seed(12000)\n",
    "torch.manual_seed(12000)\n",
    "torch.cuda.manual_seed(12000)\n",
    "torch.cuda.manual_seed_all(12000)  \n",
    "torch.backends.cudnn.benchmark = False\n",
    "torch.backends.cudnn.deterministic = True"
   ]
  },
  {
   "cell_type": "code",
   "execution_count": 3,
   "id": "0030c0ad-e445-42a5-97b1-135a222f5e82",
   "metadata": {},
   "outputs": [
    {
     "name": "stdout",
     "output_type": "stream",
     "text": [
      "te_names: ['C2']\n",
      "Loading imgs...\n",
      "Loading metadata...\n"
     ]
    }
   ],
   "source": [
    "fold=12\n",
    "data='her2st'\n",
    "prune='Grid' if data=='her2st' else 'NA'\n",
    "genes=171 if data=='cscc' else 785\n",
    "trainset = pk_load(fold,'train',dataset=data,flatten=False,adj=True,ori=True,prune=prune)\n",
    "train_loader = DataLoader(trainset, batch_size=1, num_workers=0, shuffle=True)"
   ]
  },
  {
   "attachments": {},
   "cell_type": "markdown",
   "id": "2febd49c-f377-4211-9133-39da1ba5909e",
   "metadata": {},
   "source": [
    "# HGGEP training"
   ]
  },
  {
   "cell_type": "code",
   "execution_count": 4,
   "id": "82bc6cee-8b9a-4c43-80b5-1c68feb3c550",
   "metadata": {},
   "outputs": [],
   "source": [
    "model=HGGEP(\n",
    "    depth1=d1, depth2=d2,depth3=d3,n_genes=genes,\n",
    "    kernel_size=k, patch_size=p,\n",
    "    heads=h, channel=c, dropout=0.2,\n",
    "    zinb=0.25, nb=False,\n",
    "    bake=5, lamb=0.5, \n",
    ")"
   ]
  },
  {
   "cell_type": "code",
   "execution_count": null,
   "id": "3309e1d3-528b-46cd-bcba-2f2cc4020e53",
   "metadata": {
    "tags": []
   },
   "outputs": [],
   "source": [
    "logger=None\n",
    "trainer = pl.Trainer(\n",
    "    gpus=[0], max_epochs=350,\n",
    "    logger=logger,\n",
    ")\n",
    "trainer.fit(model, train_loader)\n",
    "\n",
    "import os\n",
    "if not os.path.isdir(\"./model/\"):\n",
    "    os.mkdir(\"./model/\")\n",
    "\n",
    "torch.save(model.state_dict(),f\"./model/her2st/{fold}-HGGEP.ckpt\")"
   ]
  },
  {
   "attachments": {},
   "cell_type": "markdown",
   "id": "45afd1c5-2495-4240-b3b6-92b415507582",
   "metadata": {},
   "source": [
    "# HGGEP Prediction"
   ]
  },
  {
   "cell_type": "code",
   "execution_count": 7,
   "id": "0f19d5d8-6510-493b-9287-ba7215155dc1",
   "metadata": {},
   "outputs": [],
   "source": [
    "fold=12\n",
    "data='her2st'\n",
    "prune='Grid' if data=='her2st' else 'NA'\n",
    "genes=171 if data=='cscc' else 785"
   ]
  },
  {
   "cell_type": "code",
   "execution_count": 13,
   "id": "76cfcfb9-3169-46da-9288-2e2be7942d84",
   "metadata": {},
   "outputs": [
    {
     "name": "stdout",
     "output_type": "stream",
     "text": [
      "te_names: ['C2']\n",
      "Loading imgs...\n",
      "Loading metadata...\n",
      "{'C2': array([[0.        , 0.        , 0.        , ..., 0.        , 0.        ,\n",
      "        0.        ],\n",
      "       [0.        , 0.        , 0.        , ..., 0.        , 0.        ,\n",
      "        0.        ],\n",
      "       [0.96906871, 0.        , 0.96906871, ..., 0.        , 0.96906871,\n",
      "        1.24613169],\n",
      "       ...,\n",
      "       [0.        , 0.        , 0.        , ..., 1.12041341, 1.12041341,\n",
      "        0.        ],\n",
      "       [0.        , 1.62365932, 0.        , ..., 0.        , 1.16672282,\n",
      "        1.16672282],\n",
      "       [0.        , 1.11266272, 0.        , ..., 0.        , 0.        ,\n",
      "        1.11266272]])}\n"
     ]
    },
    {
     "name": "stderr",
     "output_type": "stream",
     "text": [
      "100%|██████████| 1/1 [00:01<00:00,  1.40s/it]\n"
     ]
    }
   ],
   "source": [
    "testset = pk_load(fold,'test',dataset=data,flatten=False,adj=True,ori=True,prune=prune)\n",
    "test_loader = DataLoader(testset, batch_size=1, num_workers=0, shuffle=False)\n",
    "label=testset.label[testset.names[0]]\n",
    "genes=785\n",
    "model=HGGEP(\n",
    "    depth1=d1, depth2=d2,depth3=d3,n_genes=genes, \n",
    "    kernel_size=k, patch_size=p,\n",
    "    heads=h, channel=c, dropout=0.2,\n",
    "    zinb=0.25, nb=False,\n",
    "    bake=5, lamb=0.5,\n",
    ")\n",
    "model.load_state_dict(torch.load(f'./model/her2st/{fold}-HGGEP.ckpt'))\n",
    "pred, gt = test(model, test_loader,'cuda')"
   ]
  },
  {
   "cell_type": "code",
   "execution_count": 14,
   "id": "4266cce3-6bc7-4f5b-81d5-d03d3ae089c4",
   "metadata": {},
   "outputs": [
    {
     "name": "stdout",
     "output_type": "stream",
     "text": [
      "Pearson Correlation: 0.18960114294482458\n"
     ]
    }
   ],
   "source": [
    "R=get_R(pred,gt)[0]\n",
    "print('Pearson Correlation:',np.nanmedian(R))"
   ]
  }
 ],
 "metadata": {
  "kernelspec": {
   "display_name": "gtn",
   "language": "python",
   "name": "python3"
  },
  "language_info": {
   "codemirror_mode": {
    "name": "ipython",
    "version": 3
   },
   "file_extension": ".py",
   "mimetype": "text/x-python",
   "name": "python",
   "nbconvert_exporter": "python",
   "pygments_lexer": "ipython3",
   "version": "3.8.13"
  },
  "pycharm": {
   "stem_cell": {
    "cell_type": "raw",
    "metadata": {
     "collapsed": false
    },
    "source": []
   }
  },
  "vscode": {
   "interpreter": {
    "hash": "f5bc5193494f8e31bb35f143e2e9d2a9395cc76e28c0276d02df8e52647f48fb"
   }
  }
 },
 "nbformat": 4,
 "nbformat_minor": 5
}
